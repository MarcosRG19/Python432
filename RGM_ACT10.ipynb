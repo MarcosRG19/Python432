{
  "nbformat": 4,
  "nbformat_minor": 0,
  "metadata": {
    "colab": {
      "provenance": [],
      "authorship_tag": "ABX9TyPh0Q+JfOMXLZF8XAE0RLKR",
      "include_colab_link": true
    },
    "kernelspec": {
      "name": "python3",
      "display_name": "Python 3"
    },
    "language_info": {
      "name": "python"
    }
  },
  "cells": [
    {
      "cell_type": "markdown",
      "metadata": {
        "id": "view-in-github",
        "colab_type": "text"
      },
      "source": [
        "<a href=\"https://colab.research.google.com/github/MarcosRG19/Python432/blob/main/RGM_ACT10.ipynb\" target=\"_parent\"><img src=\"https://colab.research.google.com/assets/colab-badge.svg\" alt=\"Open In Colab\"/></a>"
      ]
    },
    {
      "cell_type": "markdown",
      "source": [
        "# ACTIVIDAD 10"
      ],
      "metadata": {
        "id": "qeyE8FRX0Gge"
      }
    },
    {
      "cell_type": "markdown",
      "source": [
        " REALIZA UN PROGRAMA QUE UTILICE UNA LISTA DE DICCIONARIOS\n",
        "\n",
        "\n",
        "\n",
        "MENU\n",
        "\n",
        "1.- Agregar (automatico)\n",
        "\n",
        "2.- Agregar (manual)\n",
        "\n",
        "3.- Imprimir lista\n",
        "\n",
        " a)\n",
        "\n",
        " b)\n",
        "\n",
        " c)\n",
        "\n",
        "4.- Buscar {ID}\n",
        "\n",
        "5.- Ordenar\n",
        "\n",
        "6.- Eliminar {ID}\n",
        "\n",
        "7.- Borrar Toda la lista {ID}\n",
        "\n",
        "0.- SALIR\n",
        "\n",
        "\n",
        "\n",
        "NOTA: Los datos del diccionario son los Datos básicos de un trabajador de una fabrica.\n",
        "\n",
        "\n",
        "\n",
        "\n",
        "NOTA 2: VALIDAR EL PROGRAMA 100%\n",
        "\n",
        "Preguntar siempre si esta seguro eliminar, No ordenar si ya esta Ordenado, decir si lista vacía, no existe o mostrar si estala búsqueda, No se permiten ID repetidos"
      ],
      "metadata": {
        "id": "C7deWLDn0LVW"
      }
    },
    {
      "cell_type": "code",
      "execution_count": null,
      "metadata": {
        "id": "nADZPdWk0A3f"
      },
      "outputs": [],
      "source": [
        "import random\n",
        "import pandas as pd\n",
        "import pprint\n",
        "import json\n",
        "from copy import Error"
      ]
    },
    {
      "cell_type": "code",
      "source": [
        "listreg = []"
      ],
      "metadata": {
        "id": "M_S8-CJj9p11"
      },
      "execution_count": null,
      "outputs": []
    },
    {
      "cell_type": "code",
      "source": [
        "def genreg():\n",
        "    datos=[]\n",
        "    Nombresh = [\"MARCOS\",\"LUIS\",\"RAUL\",\"CARLOS\",\"RAMON\",\"KEVIN\",\"NOE\",\"ANTONIO\",\n",
        "                \"EMMANUEL\",\"JAVIER\",\"FELIPE\",\"ALBERTO\",\"JORGE\",\"SAMIR\",\"ISSAK\",\"JOAB\"]\n",
        "    Nombresm = [\"MELANY\",\"JOVANA\",\"BETZAIDA\",\"IMELDA\",\"CLAUDIA\",\"PAOLA\",\"KENIA\",\"ZANDRA\",\n",
        "                \"MAYRA\",\"AMAIRANI\",\"LITZIA\",\"MARGARITA\",\"DIANA\",\"LESLIE\",\"BELEN\",\"ANAHI\"]\n",
        "    Apellidos = [\"RUIZ\",\"RAMIREZ\",\"RODRIGUEZ\",\"ROBLES\",\"CORTEZ\",\"CABRERA\",\"CASTAÑEDA\",\n",
        "                 \"GONZALEZ\",\"GOMEZ\",\"GAMEZ\",\"VILLA\",\"HERNANDEZ\",\"VARGAS\",\"ALVAREZ\",\n",
        "                 \"GERVACIO\",\"ESCOBAR\",\"AGUILAR\",\"AGUIRRE\",\"ORTIZ\"]\n",
        "    sexo = [\"HOMBRE\",\"MUJER\"]\n",
        "    id = random.randrange(300000,399999)\n",
        "    sex = random.choice(sexo)\n",
        "    if sex == \"HOMBRE\":\n",
        "        datos.append(id)\n",
        "        datos.append(random.choice(Nombresh))\n",
        "        datos.append(random.choice(Apellidos))\n",
        "        datos.append(random.choice(Apellidos))\n",
        "        datos.append(sex)\n",
        "        datos.append(random.randint(10,70))\n",
        "    if sex == \"MUJER\":\n",
        "        datos.append(id)\n",
        "        datos.append(random.choice(Nombresm))\n",
        "        datos.append(random.choice(Apellidos))\n",
        "        datos.append(random.choice(Apellidos))\n",
        "        datos.append(sex)\n",
        "        datos.append(random.randint(10,70))\n",
        "\n",
        "    return tuple(datos)\n"
      ],
      "metadata": {
        "id": "W1acKfpD-eud"
      },
      "execution_count": null,
      "outputs": []
    },
    {
      "cell_type": "code",
      "source": [
        "def genaut():\n",
        "    keys=[\"ID\",\"NOMBRE\",\"APELLIDO PATERNO\",\"APELLIDO MATERNO\",\"SEXO\",\"EDAD\"]\n",
        "    datos = list(genreg())\n",
        "    reg = dict(zip(keys,datos))\n",
        "    listreg.append(reg)\n",
        "\n"
      ],
      "metadata": {
        "id": "_aNgMqTm7nYO"
      },
      "execution_count": null,
      "outputs": []
    },
    {
      "cell_type": "code",
      "source": [
        "def genregmanu():\n",
        "    try:\n",
        "        datos = []\n",
        "        id = int(input(\"INTRODUZCA SU ID (300000 - 399999)\"))\n",
        "        nomb = input(\"INTRODUCE TU NOMBRE \")\n",
        "        appat = input(\"INTRODUCE TU APELLIDO PATERNO \")\n",
        "        apmat = input(\"INTRODUCE TU APELLIDO MATERNO \")\n",
        "        sexo = int(input(\"SELECCIONE SU SEXO 1.-HOMBRE 2.-MUJER \"))\n",
        "        if sexo == 1:\n",
        "            sex = (\"HOMBRE\")\n",
        "        if sexo == 2:\n",
        "            sex = (\"MUJER\")\n",
        "        edad = int(input(\"INTRODUZCA SU EDAD\"))\n",
        "        if sexo < 1:\n",
        "            raise Error\n",
        "        if sexo > 2:\n",
        "            raise Error\n",
        "        if edad < 10:\n",
        "            raise Error\n",
        "        if edad > 70:\n",
        "            raise Error\n",
        "    except:\n",
        "        print(\"INTRODUJO UN VALOR INVALIDO\")\n",
        "    else:\n",
        "        datos.append(id)\n",
        "        datos.append(nomb)\n",
        "        datos.append(appat)\n",
        "        datos.append(apmat)\n",
        "        datos.append(sex)\n",
        "        datos.append(edad)\n",
        "\n",
        "        return tuple(datos)"
      ],
      "metadata": {
        "id": "cATSGQSJCFrt"
      },
      "execution_count": null,
      "outputs": []
    },
    {
      "cell_type": "code",
      "source": [
        "def genmanu():\n",
        "    keys=[\"ID\",\"NOMBRE\",\"APELLIDO PATERNO\",\"APELLIDO MATERNO\",\"SEXO\",\"EDAD\"]\n",
        "    datos = list(genregmanu())\n",
        "    reg = dict(zip(keys,datos))\n",
        "    listreg.append(reg)\n",
        "    salida = pd.DataFrame(listreg)\n"
      ],
      "metadata": {
        "id": "9bOYJ_fO_EZv"
      },
      "execution_count": null,
      "outputs": []
    },
    {
      "cell_type": "code",
      "source": [
        "band = True\n",
        "while band:\n",
        "    print(\"MENU\")\n",
        "    print(\"1.-AGREGAR AUTOMATICO\")\n",
        "    print(\"2.-AGREGAR MANUAL\")\n",
        "    print(\"3.-IMPRIMIR\")\n",
        "    print(\"4.-BUSCAR\")\n",
        "    print(\"5.-ORDENAR\")\n",
        "    print(\"6.-ELIMINAR\")\n",
        "    print(\"7.-BORRAR TODA LA LISTA\")\n",
        "    print(\"0.-SALIR\")\n",
        "    try:\n",
        "        opc = int(input(\"\"))\n",
        "        if opc < 0:\n",
        "            raise Error\n",
        "        if opc > 7:\n",
        "            raise Error\n",
        "    except:\n",
        "        print(\"VALOR INVALIDO\")\n",
        "    else:\n",
        "        if opc == 1:\n",
        "            genaut()\n",
        "        if opc == 2:\n",
        "            genmanu()\n",
        "        if opc == 3:\n",
        "            imprand = random.randint(1,3)\n",
        "            if imprand == 1:\n",
        "                salida = pd.DataFrame(listreg)\n",
        "                print(salida)\n",
        "            if imprand == 2:\n",
        "                pprint.pprint(listreg)\n",
        "            if imprand == 3:\n",
        "                print(json.dumps(listreg, sort_keys=False, indent=2))\n",
        "        if opc == 7:\n",
        "            listreg.clear()\n",
        "        if opc == 0:\n",
        "            band = False"
      ],
      "metadata": {
        "id": "Lt6cy0m5_VI0",
        "colab": {
          "base_uri": "https://localhost:8080/"
        },
        "outputId": "f66c8b6c-5f6b-4158-bdb8-abc1ad4ddefc"
      },
      "execution_count": null,
      "outputs": [
        {
          "name": "stdout",
          "output_type": "stream",
          "text": [
            "MENU\n",
            "1.-AGREGAR AUTOMATICO\n",
            "2.-AGREGAR MANUAL\n",
            "3.-IMPRIMIR\n",
            "4.-BUSCAR\n",
            "5.-ORDENAR\n",
            "6.-ELIMINAR\n",
            "7.-BORRAR TODA LA LISTA\n",
            "0.-SALIR\n",
            "1\n",
            "MENU\n",
            "1.-AGREGAR AUTOMATICO\n",
            "2.-AGREGAR MANUAL\n",
            "3.-IMPRIMIR\n",
            "4.-BUSCAR\n",
            "5.-ORDENAR\n",
            "6.-ELIMINAR\n",
            "7.-BORRAR TODA LA LISTA\n",
            "0.-SALIR\n",
            "1\n",
            "MENU\n",
            "1.-AGREGAR AUTOMATICO\n",
            "2.-AGREGAR MANUAL\n",
            "3.-IMPRIMIR\n",
            "4.-BUSCAR\n",
            "5.-ORDENAR\n",
            "6.-ELIMINAR\n",
            "7.-BORRAR TODA LA LISTA\n",
            "0.-SALIR\n",
            "1\n",
            "MENU\n",
            "1.-AGREGAR AUTOMATICO\n",
            "2.-AGREGAR MANUAL\n",
            "3.-IMPRIMIR\n",
            "4.-BUSCAR\n",
            "5.-ORDENAR\n",
            "6.-ELIMINAR\n",
            "7.-BORRAR TODA LA LISTA\n",
            "0.-SALIR\n",
            "2\n",
            "INTRODUZCA SU ID (300000 - 399999)361603\n",
            "INTRODUCE TU NOMBRE MARCOS\n",
            "INTRODUCE TU APELLIDO PATERNO RUIZ\n",
            "INTRODUCE TU APELLIDO MATERNO GONZALEZ\n",
            "SELECCIONE SU SEXO 1.-HOMBRE 2.-MUJER 1\n",
            "INTRODUZCA SU EDAD25\n",
            "MENU\n",
            "1.-AGREGAR AUTOMATICO\n",
            "2.-AGREGAR MANUAL\n",
            "3.-IMPRIMIR\n",
            "4.-BUSCAR\n",
            "5.-ORDENAR\n",
            "6.-ELIMINAR\n",
            "7.-BORRAR TODA LA LISTA\n",
            "0.-SALIR\n",
            "0\n"
          ]
        }
      ]
    }
  ]
}