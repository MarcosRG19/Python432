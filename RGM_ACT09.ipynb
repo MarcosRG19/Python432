{
  "nbformat": 4,
  "nbformat_minor": 0,
  "metadata": {
    "colab": {
      "provenance": [],
      "authorship_tag": "ABX9TyPapNldAzJCkemsA9nry2BO",
      "include_colab_link": true
    },
    "kernelspec": {
      "name": "python3",
      "display_name": "Python 3"
    },
    "language_info": {
      "name": "python"
    }
  },
  "cells": [
    {
      "cell_type": "markdown",
      "metadata": {
        "id": "view-in-github",
        "colab_type": "text"
      },
      "source": [
        "<a href=\"https://colab.research.google.com/github/MarcosRG19/Python432/blob/main/RGM_ACT09.ipynb\" target=\"_parent\"><img src=\"https://colab.research.google.com/assets/colab-badge.svg\" alt=\"Open In Colab\"/></a>"
      ]
    },
    {
      "cell_type": "markdown",
      "source": [
        "# ACTIVIDAD 9"
      ],
      "metadata": {
        "id": "ZmDH2w8LvsUs"
      }
    },
    {
      "cell_type": "markdown",
      "source": [
        "Realiza un programa en python que utilice el siguiente menu:\n",
        "\n",
        " MENU\n",
        "\n",
        " 1.- Crear Diccionario\n",
        "\n",
        " 2.- Imprimir Diccionario\n",
        "\n",
        " 0.- Salir\n",
        "\n",
        "\n",
        "\n",
        "CREAR DICCIIONARIO: funcion que retorne un diccionario con los datos de basicos de un alumno, donde se pide {id,nombre (1 O 2) , appaterno,apmaterno, edad,sexo}, El diccionario se debe generar automaticmanete a partir de listas.\n",
        "\n",
        "\n",
        "\n",
        "IMPRIMIR DICCIONARIO:  Funcion que reciba como parametro el diccionario, y le de una salida mostrando la informacion en forma de registro que se genero con el diccionario"
      ],
      "metadata": {
        "id": "oOCwhSPyvwiB"
      }
    },
    {
      "cell_type": "code",
      "source": [
        "import random\n",
        "from logging import ERROR\n",
        "import pandas as pd"
      ],
      "metadata": {
        "id": "TUDfN8DNyibm"
      },
      "execution_count": null,
      "outputs": []
    },
    {
      "cell_type": "code",
      "execution_count": null,
      "metadata": {
        "id": "9ZHhhdCDvguW"
      },
      "outputs": [],
      "source": [
        "def Diccionarios():\n",
        "    Nombresh = [\"MARCOS\",\"LUIS\",\"RAUL\",\"CARLOS\",\"RAMON\",\"KEVIN\",\"NOE\",\"ANTONIO\",\n",
        "                \"EMMANUEL\",\"JAVIER\",\"FELIPE\",\"ALBERTO\",\"JORGE\",\"SAMIR\",\"ISSAK\",\"JOAB\"]\n",
        "    Nombresm = [\"MELANY\",\"JOVANA\",\"BETZAIDA\",\"IMELDA\",\"CLAUDIA\",\"PAOLA\",\"KENIA\",\"ZANDRA\",\n",
        "                \"MAYRA\",\"AMAIRANI\",\"LITZIA\",\"MARGARITA\",\"DIANA\",\"LESLIE\",\"BELEN\",\"ANAHI\"]\n",
        "    Apellidos = [\"RUIZ\",\"RAMIREZ\",\"RODRIGUEZ\",\"ROBLES\",\"CORTEZ\",\"CABRERA\",\"CASTAÑEDA\",\n",
        "                 \"GONZALEZ\",\"GOMEZ\",\"GAMEZ\",\"VILLA\",\"HERNANDEZ\",\"VARGAS\",\"ALVAREZ\",\n",
        "                 \"GERVACIO\",\"ESCOBAR\",\"AGUILAR\",\"AGUIRRE\",\"ORTIZ\"]\n",
        "    id = random.randrange(300000,399999)\n",
        "    cant_nomb = random.randint(1,20)\n",
        "    sexo = random.randint(1,100)\n",
        "    if sexo<=50:\n",
        "        if cant_nomb <= 10:\n",
        "            reg={\"\\nID\":id,\"NOMBRE\":random.choice(Nombresh), \"AP PARTERNO\":random.choice(Apellidos),\n",
        "                 \"AP MATERNO\":random.choice(Apellidos),\"EDAD\":random.randrange(6,40),\"SEXO\":\"HOMBRE\\n\"}\n",
        "        else:\n",
        "            reg={\"\\nID\":id,\"PRIMER NOMBRE\":random.choice(Nombresh),\"SEGUNDO NOMBRE\":random.choice(Nombresh),\n",
        "                 \"AP PARTERNO\":random.choice(Apellidos),\"AP MATERNO\":random.choice(Apellidos),\n",
        "                 \"EDAD\":random.randrange(6,40),\"SEXO\":\"HOMBRE\\n\"}\n",
        "    else:\n",
        "        if cant_nomb <= 10:\n",
        "            reg={\"\\nID\":id,\"NOMBRE\":random.choice(Nombresm), \"AP PARTERNO\":random.choice(Apellidos),\n",
        "                 \"AP MATERNO\":random.choice(Apellidos),\"EDAD\":random.randrange(6,40),\"SEXO\":\"MUJER\\n\"}\n",
        "        else:\n",
        "            reg={\"\\nID\":id,\"PRIMER NOMBRE\":random.choice(Nombresm),\"SEGUNDO NOMBRE\":random.choice(Nombresm),\n",
        "                 \"AP PARTERNO\":random.choice(Apellidos),\"AP MATERNO\":random.choice(Apellidos),\n",
        "                 \"EDAD\":random.randrange(6,40),\"SEXO\":\"MUJER\\n\"}\n",
        "\n",
        "    return reg"
      ]
    },
    {
      "cell_type": "code",
      "source": [
        "def Imp_reg(dicc):\n",
        "    for key in dicc:\n",
        "        print(key,\":\",dicc[key])\n"
      ],
      "metadata": {
        "id": "x3a3NVc71HbO"
      },
      "execution_count": null,
      "outputs": []
    },
    {
      "cell_type": "code",
      "source": [
        "opc=1\n",
        "while opc!=0:\n",
        "    print(\"MENU\")\n",
        "    print(\"1.- CREAR DICCIONARIO\")\n",
        "    print(\"2.- IMPRIMIR DICCIONARIO\")\n",
        "    print(\"0.- SALIR \")\n",
        "    try:\n",
        "        opc = int(input(\"INTRODUZCA LA OPCION QUE DESEE\\n\"))\n",
        "        if opc<0:\n",
        "            raise ERROR\n",
        "        if opc>2:\n",
        "            raise ERROR\n",
        "    except:\n",
        "        print(\"INTRODUJO UN VALOR INVALIDO\")\n",
        "    else:\n",
        "        if opc==1:\n",
        "            dic = Diccionarios()\n",
        "        if opc==2:\n",
        "            Imp_reg(dic)\n",
        "\n",
        "\n",
        "\n",
        "\n",
        "\n"
      ],
      "metadata": {
        "id": "09HF_VXj7Epw",
        "colab": {
          "base_uri": "https://localhost:8080/"
        },
        "outputId": "d8688e44-f0d4-4ae2-e2a7-e644795c1535"
      },
      "execution_count": null,
      "outputs": [
        {
          "name": "stdout",
          "output_type": "stream",
          "text": [
            "MENU\n",
            "1.- CREAR DICCIONARIO\n",
            "2.- IMPRIMIR DICCIONARIO\n",
            "0.- SALIR \n",
            "INTRODUZCA LA OPCION QUE DESEE\n",
            "1\n",
            "MENU\n",
            "1.- CREAR DICCIONARIO\n",
            "2.- IMPRIMIR DICCIONARIO\n",
            "0.- SALIR \n",
            "INTRODUZCA LA OPCION QUE DESEE\n",
            "2\n",
            "\n",
            "ID : 395810\n",
            "NOMBRE : KENIA\n",
            "AP PARTERNO : CABRERA\n",
            "AP MATERNO : GONZALEZ\n",
            "EDAD : 35\n",
            "SEXO : MUJER\n",
            "\n",
            "MENU\n",
            "1.- CREAR DICCIONARIO\n",
            "2.- IMPRIMIR DICCIONARIO\n",
            "0.- SALIR \n",
            "INTRODUZCA LA OPCION QUE DESEE\n",
            "0\n"
          ]
        }
      ]
    }
  ]
}