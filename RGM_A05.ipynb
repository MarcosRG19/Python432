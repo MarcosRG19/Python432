{
  "nbformat": 4,
  "nbformat_minor": 0,
  "metadata": {
    "colab": {
      "provenance": [],
      "authorship_tag": "ABX9TyO+ROmn1ccjnjcIq5MLQGtL",
      "include_colab_link": true
    },
    "kernelspec": {
      "name": "python3",
      "display_name": "Python 3"
    },
    "language_info": {
      "name": "python"
    }
  },
  "cells": [
    {
      "cell_type": "markdown",
      "metadata": {
        "id": "view-in-github",
        "colab_type": "text"
      },
      "source": [
        "<a href=\"https://colab.research.google.com/github/MarcosRG19/Python432/blob/main/RGM_A05.ipynb\" target=\"_parent\"><img src=\"https://colab.research.google.com/assets/colab-badge.svg\" alt=\"Open In Colab\"/></a>"
      ]
    },
    {
      "cell_type": "markdown",
      "source": [
        "# ACTIVIDAD 5"
      ],
      "metadata": {
        "id": "5ogoYCVdjBBj"
      }
    },
    {
      "cell_type": "code",
      "source": [
        "import random"
      ],
      "metadata": {
        "id": "5uk-6ZpBrcy6"
      },
      "execution_count": null,
      "outputs": []
    },
    {
      "cell_type": "markdown",
      "source": [
        "1.- Programa en Python que genere 40 números aleatorios entre el 0 y 200, desplegar los números y la leyenda de cada número si es par o impar , la cantidad de los números pares e impares así como la suma de los números pares o impares."
      ],
      "metadata": {
        "id": "i_9ms4pJjGRR"
      }
    },
    {
      "cell_type": "code",
      "execution_count": null,
      "metadata": {
        "colab": {
          "base_uri": "https://localhost:8080/"
        },
        "id": "7vnXvOg3jADc",
        "outputId": "d0989a9c-910e-4851-8a2e-de82678556df"
      },
      "outputs": [
        {
          "output_type": "stream",
          "name": "stdout",
          "text": [
            "61 ---> ES IMPAR\n",
            "160 ---> ES PAR\n",
            "21 ---> ES IMPAR\n",
            "45 ---> ES IMPAR\n",
            "51 ---> ES IMPAR\n",
            "167 ---> ES IMPAR\n",
            "44 ---> ES PAR\n",
            "90 ---> ES PAR\n",
            "41 ---> ES IMPAR\n",
            "160 ---> ES PAR\n",
            "106 ---> ES PAR\n",
            "195 ---> ES IMPAR\n",
            "145 ---> ES IMPAR\n",
            "100 ---> ES PAR\n",
            "34 ---> ES PAR\n",
            "177 ---> ES IMPAR\n",
            "10 ---> ES PAR\n",
            "34 ---> ES PAR\n",
            "148 ---> ES PAR\n",
            "124 ---> ES PAR\n",
            "147 ---> ES IMPAR\n",
            "78 ---> ES PAR\n",
            "95 ---> ES IMPAR\n",
            "27 ---> ES IMPAR\n",
            "137 ---> ES IMPAR\n",
            "110 ---> ES PAR\n",
            "67 ---> ES IMPAR\n",
            "71 ---> ES IMPAR\n",
            "133 ---> ES IMPAR\n",
            "143 ---> ES IMPAR\n",
            "93 ---> ES IMPAR\n",
            "106 ---> ES PAR\n",
            "180 ---> ES PAR\n",
            "129 ---> ES IMPAR\n",
            "48 ---> ES PAR\n",
            "55 ---> ES IMPAR\n",
            "171 ---> ES IMPAR\n",
            "44 ---> ES PAR\n",
            "52 ---> ES PAR\n",
            "105 ---> ES IMPAR\n",
            "LA CANTIDAD DE PARES = 18\n",
            "LA SUMA DE LOS PARES = 1628\n",
            "LA CANRTIDAD DE IMPARES = 22\n",
            "LA SUMA DE LOS IMPARES = 2276\n"
          ]
        }
      ],
      "source": [
        "i=0\n",
        "par=0\n",
        "impar=0\n",
        "spar=0\n",
        "simpar=0\n",
        "while i<40:\n",
        "    x=random.randrange(0,200)\n",
        "    if x % 2 == 0:\n",
        "        print(f\"{x} ---> ES PAR\")\n",
        "        par += 1\n",
        "        spar += x\n",
        "    else:\n",
        "        print(f\"{x} ---> ES IMPAR\")\n",
        "        impar += 1\n",
        "        simpar += x\n",
        "    i+=1\n",
        "print(f\"LA CANTIDAD DE PARES = {par}\")\n",
        "print(f\"LA SUMA DE LOS PARES = {spar}\")\n",
        "print(f\"LA CANRTIDAD DE IMPARES = {i - par}\")\n",
        "print(f\"LA SUMA DE LOS IMPARES = {simpar}\")"
      ]
    },
    {
      "cell_type": "markdown",
      "source": [
        "2.- Programa en Python que despliegue la tabla de multiplicar de un número dado (número entre el 1 y 20).\n",
        "\n",
        "\n",
        "\n",
        "Tabla del 5\n",
        "\n",
        "5 * 1 = 5\n",
        "\n",
        "5* 2 = 10\n",
        "\n",
        ".\n",
        "\n",
        ".\n",
        "\n",
        ".\n",
        "\n",
        "5*10=50\n",
        "\n"
      ],
      "metadata": {
        "id": "Xp10beNYjJP7"
      }
    },
    {
      "cell_type": "code",
      "source": [
        "try:\n",
        "    num=int(input(\"La tabla de multiplicar de que numero? (entre 1 y 20) \"))\n",
        "except:\n",
        "    print(\"INTRODUJO UN VALOR QUE NO ES UN NUMERO ENTERO\")\n",
        "else:\n",
        "    for i in range(1,11):\n",
        "        res = num*i\n",
        "        print(f\"5 * {i} = {res}\")"
      ],
      "metadata": {
        "id": "v8LqYfV4jJjS",
        "colab": {
          "base_uri": "https://localhost:8080/"
        },
        "outputId": "cb9ba2a2-2ae5-413e-a86a-8549249c430c"
      },
      "execution_count": null,
      "outputs": [
        {
          "output_type": "stream",
          "name": "stdout",
          "text": [
            "La tabla de multiplicar de que numero? (entre 1 y 20)e\n",
            "INTRODUJO UN VALOR QUE NO ES UN NUMERO ENTERO\n"
          ]
        }
      ]
    },
    {
      "cell_type": "markdown",
      "source": [
        "3.- Programa en Python que lea una calificación, las calificación deberá estar en el rango de 0 a 100, si hay un error de captura, mostrar mensaje de error. con la calificación correcta mostrar msg de aprobado reprobado."
      ],
      "metadata": {
        "id": "yn4Dl0n4jJyo"
      }
    },
    {
      "cell_type": "code",
      "source": [
        "from os import error\n",
        "try:\n",
        "    calif = int(input(\"DAME LA CALIFICACION \"))\n",
        "    if calif<0:\n",
        "        raise error\n",
        "    elif calif>100:\n",
        "        raise error\n",
        "except:\n",
        "    print(\"ERROR: INTRODUJO UN VALOR INVALIDO\")\n",
        "else:\n",
        "    if calif<60:\n",
        "        print(\"REPROBADO\")\n",
        "    else:\n",
        "        print(\"APROBADO\")"
      ],
      "metadata": {
        "id": "aRg4Nt-YjKFn",
        "colab": {
          "base_uri": "https://localhost:8080/"
        },
        "outputId": "0f7b130d-1700-4709-8682-3ba8f6e7f5a7"
      },
      "execution_count": null,
      "outputs": [
        {
          "output_type": "stream",
          "name": "stdout",
          "text": [
            "DAME LA CALIFICACION -1\n",
            "ERROR: INTRODUJO UN VALOR INVALIDO\n"
          ]
        }
      ]
    },
    {
      "cell_type": "markdown",
      "source": [
        "4.- Programa en Python que lea n cantidad de números enteros dentro de un rango dado (> 0 ) , el programa deberá terminar cuando el usuario introduzca el número cero.\n",
        "\n",
        "desplegar la suma de números y la media."
      ],
      "metadata": {
        "id": "T8ogS7O4jKVH"
      }
    },
    {
      "cell_type": "code",
      "source": [
        "from IPython.display import clear_output"
      ],
      "metadata": {
        "id": "9oRTmoQ0t_vy"
      },
      "execution_count": null,
      "outputs": []
    },
    {
      "cell_type": "code",
      "source": [
        "suma=0\n",
        "num=1\n",
        "i=0\n",
        "while num!=0:\n",
        "    try:\n",
        "        clear_output()\n",
        "        num = int(input(\"Dame un numero o 0 para salir \"))\n",
        "        if num==0:\n",
        "            break\n",
        "        if num<0:\n",
        "            print(\"DEBE INTRODUCIR NUMEROS MAYORES A 0\")\n",
        "            continue\n",
        "    except:\n",
        "        print(\"ERROR: DEBE INTRODUCIR NUMEROS ENTEROS\")\n",
        "        continue\n",
        "    else:\n",
        "        i+=1\n",
        "        suma+=num\n",
        "\n",
        "print(f\"LA SUMA DE LOS NUMEROS ES {suma}\")\n",
        "print(f\"LA MEDIA ES {suma/i}\")"
      ],
      "metadata": {
        "id": "QdDrpHp4jKwh",
        "colab": {
          "base_uri": "https://localhost:8080/"
        },
        "outputId": "f6232c27-be10-4e61-b710-7ce6eb6977d6"
      },
      "execution_count": null,
      "outputs": [
        {
          "output_type": "stream",
          "name": "stdout",
          "text": [
            "Dame un numero o 0 para salir 0\n",
            "LA SUMA DE LOS NUMEROS ES 65\n",
            "LA MEDIA ES 16.25\n"
          ]
        }
      ]
    },
    {
      "cell_type": "markdown",
      "source": [
        "5.- Programa en Python que sirva para leer el promedio de una materia. donde el usuario tendrá un máximo de 3 oportunidades de cursar la materia, si el promedio es aprobado, felicitarlo y continuar el siguiente semestre, si promedio es reprobado deberá salir mensaje de repetir materia o es baja académica si ha reprobado 3 veces."
      ],
      "metadata": {
        "id": "wkx6ZHX-jUki"
      }
    },
    {
      "cell_type": "code",
      "source": [
        "for i in range(0,3,1):\n",
        "    try:\n",
        "        print(f\"Oportunidad {i+1}\")\n",
        "        prom = int(input(\"DAME EL PROMEDIO DE LA MATERIA \"))\n",
        "        if prom>100:\n",
        "            raise error\n",
        "        elif prom<0:\n",
        "            raise error\n",
        "    except:\n",
        "        print(\"INTRODUJO UN VALOR INVALIDO\")\n",
        "    else:\n",
        "        if prom>=60:\n",
        "            print(\"FELICIDADES APROBASTE LA MATERIA\")\n",
        "            break\n",
        "        else:\n",
        "            if i<2:\n",
        "                print(\"REPETIR MATERIA\")\n",
        "            else:\n",
        "                print(\"BAJA ACADEMICA\")"
      ],
      "metadata": {
        "id": "uiBdjMM0jU4w",
        "colab": {
          "base_uri": "https://localhost:8080/"
        },
        "outputId": "8340c6df-7deb-4991-9a94-b49de9ed799b"
      },
      "execution_count": null,
      "outputs": [
        {
          "output_type": "stream",
          "name": "stdout",
          "text": [
            "Oportunidad 1\n",
            "DAME EL PROMEDIO DE LA MATERIA 30\n",
            "REPETIR MATERIA\n",
            "Oportunidad 2\n",
            "DAME EL PROMEDIO DE LA MATERIA 30\n",
            "REPETIR MATERIA\n",
            "Oportunidad 3\n",
            "DAME EL PROMEDIO DE LA MATERIA 50\n",
            "BAJA ACADEMICA\n"
          ]
        }
      ]
    },
    {
      "cell_type": "markdown",
      "source": [
        "# PARTE 2:"
      ],
      "metadata": {
        "id": "aafnfSJOjZcp"
      }
    },
    {
      "cell_type": "code",
      "source": [
        "import random"
      ],
      "metadata": {
        "id": "td78ODWg9qKE"
      },
      "execution_count": null,
      "outputs": []
    },
    {
      "cell_type": "markdown",
      "source": [
        "1.- función que lea n cantidad de números hasta que el usuario lo desee, desplegar la suma de los números, media y valor de los números mayores y menores."
      ],
      "metadata": {
        "id": "1Hams2SbjZzn"
      }
    },
    {
      "cell_type": "code",
      "source": [
        "\n",
        "def funcion():\n",
        "    suma=0\n",
        "    i=0\n",
        "    band=True\n",
        "    while (band):\n",
        "        try:\n",
        "            num = float(input(\"DAME EL NUMERO \"))\n",
        "            opc = int(input(\"OTRO NUMERO? 1.-SI 2.-NO \"))\n",
        "            if opc<1:\n",
        "                print(\"VALOR INVALIDO\")\n",
        "                continue\n",
        "            elif opc>2:\n",
        "                print(\"VALOR INVALIDO\")\n",
        "                continue\n",
        "        except:\n",
        "            print(\"NUMEROS POR FAVOR\")\n",
        "        else:\n",
        "            suma+=num\n",
        "            i+=1\n",
        "\n",
        "        if opc==2:\n",
        "            band = False\n",
        "    print(f\"LA SUMA DE LOS NUMEROS ES {suma}\")\n",
        "    print(f\"LA MEDIA ES {suma/i}\")\n"
      ],
      "metadata": {
        "id": "_CActfkwjglS"
      },
      "execution_count": null,
      "outputs": []
    },
    {
      "cell_type": "code",
      "source": [
        "funcion()"
      ],
      "metadata": {
        "colab": {
          "base_uri": "https://localhost:8080/"
        },
        "id": "bHLUibJP2em7",
        "outputId": "bdd76621-75db-4ca1-9bf6-099f3f81070a"
      },
      "execution_count": null,
      "outputs": [
        {
          "output_type": "stream",
          "name": "stdout",
          "text": [
            "DAME EL NUMERO 15\n",
            "OTRO NUMERO? 1.-SI 2.-NO 1\n",
            "DAME EL NUMERO 20\n",
            "OTRO NUMERO? 1.-SI 2.-NO 1\n",
            "DAME EL NUMERO 19\n",
            "OTRO NUMERO? 1.-SI 2.-NO 2\n",
            "LA SUMA DE LOS NUMEROS ES 54.0\n",
            "LA MEDIA ES 18.0\n"
          ]
        }
      ]
    },
    {
      "cell_type": "markdown",
      "source": [
        "2.- función que genere 15 números impares entre 10 y 60 o máximo de 25 números. desplegar la media de los pares y media de impares."
      ],
      "metadata": {
        "id": "mP05nmqzjhSu"
      }
    },
    {
      "cell_type": "code",
      "source": [
        "def PareseImpares():\n",
        "    paracum=0\n",
        "    par=0\n",
        "    impar=0\n",
        "    imparacum=0\n",
        "    for i in range(0,25,1):\n",
        "        num = random.randrange(10,60)\n",
        "\n",
        "        if num%2==0:\n",
        "            paracum+=num\n",
        "            par+=1\n",
        "        elif num%2==1:\n",
        "            imparacum+=num\n",
        "            impar+=1\n",
        "        if impar==15:\n",
        "            break\n",
        "    print(f\"LA MEDIA DE LOS PARES ES {paracum/par}\")\n",
        "    print(f\"LA MEDIA DE LOS IMPARES ES {imparacum/impar}\")"
      ],
      "metadata": {
        "id": "2-Qfhfu9jhkR"
      },
      "execution_count": null,
      "outputs": []
    },
    {
      "cell_type": "code",
      "source": [
        "PareseImpares()"
      ],
      "metadata": {
        "colab": {
          "base_uri": "https://localhost:8080/"
        },
        "id": "0ZEAbijg_Khd",
        "outputId": "6ad12918-26c8-4df8-c8f1-c43efe877cf2"
      },
      "execution_count": null,
      "outputs": [
        {
          "output_type": "stream",
          "name": "stdout",
          "text": [
            "LA MEDIA DE LOS PARES ES 37.714285714285715\n",
            "LA MEDIA DE LOS IMPARES ES 38.63636363636363\n"
          ]
        }
      ]
    },
    {
      "cell_type": "markdown",
      "source": [
        "3.- función que sirva para leer y validar un número dentro de un rango dado por el usuario. repetir esta acción hasta que el usuario lo desee, desplegar cantidad de números y promedio de los números.."
      ],
      "metadata": {
        "id": "gsM3BTCcjh-g"
      }
    },
    {
      "cell_type": "code",
      "source": [
        "def valida_num(ri,rf):\n",
        "    band = True\n",
        "    while band:\n",
        "        try:\n",
        "            num = float(input(f\"DAME UN NUMERO DENTRO DEL RANGO {ri} y {rf} \"))\n",
        "            if num<ri:\n",
        "                print(\"NUMERO FUERA DEL RANGO\")\n",
        "                continue\n",
        "            elif num>rf:\n",
        "                print(\"NUMERO FUERA DEL RANGO\")\n",
        "                continue\n",
        "        except:\n",
        "            print(\"DEBES INTRODUCIR NUMEROS\")\n",
        "            continue\n",
        "        else:\n",
        "            band = False\n",
        "            return num\n",
        "\n",
        "\n"
      ],
      "metadata": {
        "id": "iU4mnklMjiUG"
      },
      "execution_count": null,
      "outputs": []
    },
    {
      "cell_type": "code",
      "source": [
        "ri = int(input(\"DAME EL RANGO INICIAL \"))\n",
        "rf = int(input(\"DAME EL RANGO FINAL \"))\n",
        "acum = 0\n",
        "i=0\n",
        "band = True\n",
        "band2 = True\n",
        "while band:\n",
        "    clear_output()\n",
        "    x = valida_num(ri,rf)\n",
        "    acum += x\n",
        "    i+=1\n",
        "    band2 = True\n",
        "    while band2:\n",
        "        opc = int(input(\"1.-CONTINUAR  2.-SALIR \"))\n",
        "        if opc == 1:\n",
        "            band2 = False\n",
        "        elif opc == 2:\n",
        "            band2 = False\n",
        "            band = False\n",
        "        else:\n",
        "            print(\"ESCOJA UNA DE LAS OPCIONES POR FAVOR\")\n",
        "            continue\n",
        "print(f\"SE INGRESARON {i} NUMEROS\")\n",
        "print(f\"EL PROMEDIO ES {acum/i}\")"
      ],
      "metadata": {
        "id": "0_YhRUJmFnBn",
        "colab": {
          "base_uri": "https://localhost:8080/"
        },
        "outputId": "7dd28155-7a89-42f2-dad1-ccecb159158d"
      },
      "execution_count": null,
      "outputs": [
        {
          "output_type": "stream",
          "name": "stdout",
          "text": [
            "DAME UN NUMERO DENTRO DEL RANGO 10 y 50 40\n",
            "1.-CONTINUAR  2.-SALIR 2\n",
            "SE INGRESARON 7 NUMEROS\n",
            "EL PROMEDIO ES 23.428571428571427\n"
          ]
        }
      ]
    },
    {
      "cell_type": "markdown",
      "source": [
        "4.- función que reciba como parámetro los valores para el área de un triángulo y retorne su resultado"
      ],
      "metadata": {
        "id": "LZbLP5ubjiiy"
      }
    },
    {
      "cell_type": "code",
      "source": [
        "def Area_triangulo(base,alt):\n",
        "    area = base*alt/2\n",
        "    return area\n"
      ],
      "metadata": {
        "id": "GBX2OS9Vjjv5"
      },
      "execution_count": null,
      "outputs": []
    },
    {
      "cell_type": "code",
      "source": [
        "band = True\n",
        "while band:\n",
        "    try:\n",
        "        base = float(input(\"DAME LA MEDIDA DE LA BASE DEL TRIANGULO \"))\n",
        "        alt = float(input(\"DAME LA MEDIDA DE LA ALTURA DEL TRIANGULO \"))\n",
        "        x = Area_triangulo(base,alt)\n",
        "    except:\n",
        "        print(\"LA MEDIDA DEBEN SER NUMEROS\")\n",
        "    else:\n",
        "        band = False\n",
        "print(f\"EL AREA DEL TRIANGULO ES {x}\")"
      ],
      "metadata": {
        "colab": {
          "base_uri": "https://localhost:8080/"
        },
        "id": "EwesFIfWBHi4",
        "outputId": "c79ba4a5-510b-40f7-ab96-0b12502695d0"
      },
      "execution_count": null,
      "outputs": [
        {
          "output_type": "stream",
          "name": "stdout",
          "text": [
            "DAME LA MEDIDA DE LA BASE DEL TRIANGULO 10\n",
            "DAME LA MEDIDA DE LA ALTURA DEL TRIANGULO 20\n",
            "EL AREA DEL TRIANGULO ES 100.0\n"
          ]
        }
      ]
    },
    {
      "cell_type": "markdown",
      "source": [
        "5.- función que sirva para validar un número dentro de un rango dado."
      ],
      "metadata": {
        "id": "XzXcThK8jtTz"
      }
    },
    {
      "cell_type": "code",
      "source": [
        "def valida_num(ri,rf):\n",
        "    i=0\n",
        "    band = True\n",
        "    while band:\n",
        "        try:\n",
        "            num = float(input(f\"DAME UN NUMERO DENTRO DEL RANGO {ri} y {rf} \"))\n",
        "        except:\n",
        "            print(\"DEBES INTRODUCIR NUMEROS\")\n",
        "            continue\n",
        "        else:\n",
        "            if num<ri:\n",
        "                i=-1\n",
        "            elif num>rf:\n",
        "                i=-1\n",
        "            band = False\n",
        "            return i"
      ],
      "metadata": {
        "id": "JfcCz5Jfjtqv"
      },
      "execution_count": null,
      "outputs": []
    },
    {
      "cell_type": "code",
      "source": [
        "ri = int(input(\"DAME EL RANGO INICIAL \"))\n",
        "rf = int(input(\"DAME EL RANGO FINAL \"))\n",
        "x = valida_num(ri,rf)\n",
        "if x==0:\n",
        "    print(f\"EL NUMERO INGRESADO SI ESTÁ DENTRO DEL RANGO DADO\")\n",
        "elif x==-1:\n",
        "    print(f\"EL NUMERO INGRESADO NO ESTÁ DENTRO DEL RANGO DADO\")"
      ],
      "metadata": {
        "colab": {
          "base_uri": "https://localhost:8080/"
        },
        "id": "JukdAvxgFyKV",
        "outputId": "2f9d7452-5389-4ae3-eb8c-977a10b0c5bd"
      },
      "execution_count": null,
      "outputs": [
        {
          "output_type": "stream",
          "name": "stdout",
          "text": [
            "DAME EL RANGO INICIAL 0\n",
            "DAME EL RANGO FINAL 100\n",
            "DAME UN NUMERO DENTRO DEL RANGO 0 y 100 19\n",
            "EL NUMERO INGRESADO SI ESTÁ DENTRO DEL RANGO DADO\n"
          ]
        }
      ]
    }
  ]
}