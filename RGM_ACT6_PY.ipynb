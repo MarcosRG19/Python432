{
  "nbformat": 4,
  "nbformat_minor": 0,
  "metadata": {
    "colab": {
      "provenance": [],
      "authorship_tag": "ABX9TyPX9BU+D6ihVUiabSCpWz6A",
      "include_colab_link": true
    },
    "kernelspec": {
      "name": "python3",
      "display_name": "Python 3"
    },
    "language_info": {
      "name": "python"
    }
  },
  "cells": [
    {
      "cell_type": "markdown",
      "metadata": {
        "id": "view-in-github",
        "colab_type": "text"
      },
      "source": [
        "<a href=\"https://colab.research.google.com/github/MarcosRG19/Python432/blob/main/RGM_ACT6_PY.ipynb\" target=\"_parent\"><img src=\"https://colab.research.google.com/assets/colab-badge.svg\" alt=\"Open In Colab\"/></a>"
      ]
    },
    {
      "cell_type": "markdown",
      "source": [
        "ACTIVIDAD  6"
      ],
      "metadata": {
        "id": "xo6bVps2UnW3"
      }
    },
    {
      "cell_type": "markdown",
      "source": [
        "1.- FUNCIÓN QUE LEA n CANTIDAD DE NÚMEROS HASTA QUE EL USUARIO LO DESEE, DESPLEGAR LA SUMA DE LOS NÚMEROS, MEDIA Y VALOR DE LOS NÚMEROS MAYORES Y MENORES."
      ],
      "metadata": {
        "id": "bkmHo2WIU0F9"
      }
    },
    {
      "cell_type": "code",
      "source": [
        "print(\"MENU\")\n",
        "print(\"1.- SUMA Y MEDIA DE NUMEROS\")\n",
        "print(\"2.- NUMEROS RANDOMS PARES E IMPARES\")\n",
        "print(\"3.- VALIDAR NUMEROS DENTRO DE UN RANGO\")\n",
        "print(\"4.- CALCULAR AREA DE UN TRIANGULO\")\n",
        "print(\"5.- CALIFICACIONES\")\n",
        "opc = int(input(\"ELIJA UNA OPCION \"))\n",
        "if opc==1:\n",
        "    Suma_media()\n",
        "elif opc==2:\n",
        "    Pares_impares()\n",
        "elif opc==3:\n",
        "    Numero_rango()\n",
        "elif opc==4:\n",
        "    Area()\n",
        "elif opc==5:\n",
        "    calificaciones()\n"
      ],
      "metadata": {
        "colab": {
          "base_uri": "https://localhost:8080/",
          "height": 0
        },
        "id": "UE-nzRAbkE0K",
        "outputId": "5401bd42-cbb8-42aa-c206-450f62a9e439"
      },
      "execution_count": 14,
      "outputs": [
        {
          "output_type": "stream",
          "name": "stdout",
          "text": [
            "MENU\n",
            "1.- SUMA Y MEDIA DE NUMEROS\n",
            "2.- NUMEROS RANDOMS PARES E IMPARES\n",
            "3.- VALIDAR NUMEROS DENTRO DE UN RANGO\n",
            "4.- CALCULAR AREA DE UN TRIANGULO\n",
            "5.- CALIFICACIONES\n",
            "ELIJA UNA OPCION 5\n",
            "Oportunidad 1\n",
            "DAME LA PRIMERA CALIFICACION 12\n",
            "DAME LA SEGUNDA CALIFICACION 15\n",
            "DAME LA TERCERA CALIFICACION 19\n",
            "REPETIR MATERIA\n",
            "Oportunidad 2\n",
            "DAME LA PRIMERA CALIFICACION 10\n",
            "DAME LA SEGUNDA CALIFICACION 12\n",
            "DAME LA TERCERA CALIFICACION 18\n",
            "REPETIR MATERIA\n",
            "Oportunidad 3\n",
            "DAME LA PRIMERA CALIFICACION 19\n",
            "DAME LA SEGUNDA CALIFICACION 90\n",
            "DAME LA TERCERA CALIFICACION 90\n",
            "FELICIDADES AVANZAS AL SIGUIENTE SEMESTRE\n"
          ]
        }
      ]
    },
    {
      "cell_type": "code",
      "source": [
        "import random\n",
        "from IPython.display import clear_output"
      ],
      "metadata": {
        "id": "hqG1SkxiXcet"
      },
      "execution_count": 2,
      "outputs": []
    },
    {
      "cell_type": "code",
      "execution_count": 3,
      "metadata": {
        "id": "1vAJMH72UReh"
      },
      "outputs": [],
      "source": [
        "\n",
        "def Suma_media():\n",
        "    band = True\n",
        "    i = 0\n",
        "    suma = 0\n",
        "    men = 10000000000000000000\n",
        "    may = 0\n",
        "    while band:\n",
        "        try:\n",
        "            num = int(input(\"INGRESE EL NUMERO O UN 0 PARA SALIR \"))\n",
        "            clear_output()\n",
        "        except:\n",
        "            print(\"DEBE INTRODUCIR NUMEROS\")\n",
        "        else:\n",
        "            if num==0:\n",
        "                band = False\n",
        "            else:\n",
        "                if num>may:\n",
        "                    may = num\n",
        "                if num<men:\n",
        "                    men = num\n",
        "                i+=1\n",
        "                suma+=num\n",
        "    print(f\"LA SUMA DE TODOS LOS NUMEROS ES {suma}\")\n",
        "    print(f\"LA MEDIA DE LOS NUMEROS ES {suma/i}\")\n",
        "    print(f\"EL NUMERO MAYOR FUE {may}\")\n",
        "    print(f\"EL NUMERO MENOR FUE {men}\")"
      ]
    },
    {
      "cell_type": "markdown",
      "source": [
        "\n",
        "2.- FUNCIÓN QUE GENERE 15 NÚMEROS IMPARES ENTRE 10 Y 60 o MÁXIMO DE 25 NÚMEROS. DESPLEGAR LA MEDIA DE LOS PARES Y MEDIA DE IMPARES."
      ],
      "metadata": {
        "id": "5jTv1Q__ZvOA"
      }
    },
    {
      "cell_type": "code",
      "source": [
        "def Pares_impares():\n",
        "    par = 0\n",
        "    sumapar = 0\n",
        "    impar = 0\n",
        "    sumaimpar = 0\n",
        "    for i in range(0,25,1):\n",
        "        num = random.randrange(10,60)\n",
        "        if num%2==0:\n",
        "            par+=1\n",
        "            sumapar+=num\n",
        "        elif num%2==1:\n",
        "            impar+=1\n",
        "            sumaimpar+=num\n",
        "        if impar==15:\n",
        "            break\n",
        "    print(f\"LA MEDIA DE LOS PARES ES {sumapar/par}\")\n",
        "    print(f\"LA MEDIA DE LOS IMPARES ES {sumaimpar/impar}\")"
      ],
      "metadata": {
        "id": "pxSqcNWkZnlg"
      },
      "execution_count": 4,
      "outputs": []
    },
    {
      "cell_type": "markdown",
      "source": [
        "3.- FUNCIÓN QUE SIRVA PARA LEER UN RANGO DADO POR EL USUARIO. REPETIR ESTA ACCIÓN HASTA QUE EL USUARIO LO DESEE, DESPLEGAR CANTIDAD DE NUMEROS Y PROMEDIO DE LOS NUMEROS.."
      ],
      "metadata": {
        "id": "EGdS-KBWd3VB"
      }
    },
    {
      "cell_type": "code",
      "source": [
        "\n",
        "def Numero_rango():\n",
        "    ri = int(input(\"DAME EL RANGO INFERIOR \"))\n",
        "    rf = int(input(\"DAME EL RANGO SUPERIOR \"))\n",
        "    i = 0\n",
        "    suma = 0\n",
        "    band = True\n",
        "    while band:\n",
        "        band2 = True\n",
        "        n = valida_num(ri,rf)\n",
        "\n",
        "        i+=1\n",
        "        suma+=n\n",
        "        while band2:\n",
        "            op = int(input(\"1.- CONTINUAR 2.- SALIR\\n\"))\n",
        "            clear_output()\n",
        "            if op==1:\n",
        "                band2 = False\n",
        "            elif op==2:\n",
        "                band = False\n",
        "                band2 = False\n",
        "    print(f\"INTRODUJO {i} NUMEROS\")\n",
        "    print(f\"LA MEDIA ES {suma/i}\")"
      ],
      "metadata": {
        "id": "f0O8TKDReQlo"
      },
      "execution_count": 5,
      "outputs": []
    },
    {
      "cell_type": "code",
      "source": [
        "def valida_num(ri,rf):\n",
        "    band = True\n",
        "    while band:\n",
        "        try:\n",
        "            num = int(input(f\"DAME UN NUMERO DENTRO DEL RANGO {ri} y {rf} \"))\n",
        "            if num<ri:\n",
        "                print(\"NUMERO FUERA DEL RANGO\")\n",
        "                continue\n",
        "            elif num>rf:\n",
        "                print(\"NUMERO FUERA DEL RANGO\")\n",
        "                continue\n",
        "        except:\n",
        "            print(\"DEBES INTRODUCIR NUMEROS\")\n",
        "            continue\n",
        "        else:\n",
        "            band = False\n",
        "            return num\n",
        "\n",
        "\n"
      ],
      "metadata": {
        "id": "_Ava3EGuapRH"
      },
      "execution_count": 6,
      "outputs": []
    },
    {
      "cell_type": "markdown",
      "source": [
        "4.- FUNCIÓN QUE RECIBA COMO PARÁMETRO LOS VALORES PARA EL ÁREA DE UN TRIANGULO Y RETORNE SU RESULTADO"
      ],
      "metadata": {
        "id": "gGqfEhW5ec4c"
      }
    },
    {
      "cell_type": "code",
      "source": [
        "def Area_triangulo(base,alt):\n",
        "    area = (base*alt)/2\n",
        "    return area"
      ],
      "metadata": {
        "id": "axJrs7WbefIN"
      },
      "execution_count": 7,
      "outputs": []
    },
    {
      "cell_type": "code",
      "source": [
        "def Area():\n",
        "    band = True\n",
        "    while band:\n",
        "        try:\n",
        "            base = float(input(\"DAME EL VALOR DE LA BASE DEL TRIANGULO \"))\n",
        "            alt = float(input(\"DAME EL VALOR DE LA ALTURA DEL TRIANGULO \"))\n",
        "        except:\n",
        "            print(\"DEBE INTRODUCIR NUMEROS\")\n",
        "        else:\n",
        "            band = False\n",
        "    x = Area_triangulo(base,alt)\n",
        "    print(f\"EL AREA DEL TRIANGULO ES {x}\")"
      ],
      "metadata": {
        "id": "atbMe0kDgxCX"
      },
      "execution_count": 8,
      "outputs": []
    },
    {
      "cell_type": "markdown",
      "source": [
        "5.- FUNCION QUE SIRVA QUE SIRVA PARA EVALUAR EL PROMEDIO DE 3 CALIFICACIONES DADAS, SI EL USUARIO SU CALIFICACION ES APROBADA MANDAR MSGE QUE DIGA \"felicidades avanzas al siguiente semestre\", SI LA CALIFICACIONE ESTA REPROBADA EL MENSAGE \"repetir materia \" EL ALUMNO TENDRA UN MAXIMO DE CURSAR 3 VESES LA MATERIA, SI LA REPRUEBA 3 VESES MANDAR MSGE \" lastima estas fuera de la UABC\""
      ],
      "metadata": {
        "id": "ZEOlS7RjeshG"
      }
    },
    {
      "cell_type": "code",
      "source": [
        "def calificaciones():\n",
        "    band=True\n",
        "    i=0\n",
        "    while band:\n",
        "        try:\n",
        "            print(f\"Oportunidad {i+1}\")\n",
        "            calif1 = int(input(\"DAME LA PRIMERA CALIFICACION \"))\n",
        "            if calif1>100:\n",
        "                raise error\n",
        "            elif calif1<0:\n",
        "                raise error\n",
        "            calif2 = int(input(\"DAME LA SEGUNDA CALIFICACION \"))\n",
        "            if calif2>100:\n",
        "                raise error\n",
        "            elif calif2<0:\n",
        "                raise error\n",
        "            calif3 = int(input(\"DAME LA TERCERA CALIFICACION \"))\n",
        "            if calif3>100:\n",
        "                raise error\n",
        "            elif calif3<0:\n",
        "                raise error\n",
        "            prom = (calif1 + calif2 + calif3)/3\n",
        "        except:\n",
        "\n",
        "            print(\"INTRODUJO UN VALOR INVALIDO\")\n",
        "            continue\n",
        "        else:\n",
        "            if prom>=60:\n",
        "                print(\"FELICIDADES AVANZAS AL SIGUIENTE SEMESTRE\")\n",
        "                band = False\n",
        "            else:\n",
        "                if i<2:\n",
        "                    print(\"REPETIR MATERIA\")\n",
        "                else:\n",
        "                    print(\"LASTIMA ESTAS FUERA DE LA UABC\")\n",
        "                    band = False\n",
        "            i+=1"
      ],
      "metadata": {
        "id": "Bs-iI7-Zetqk"
      },
      "execution_count": 9,
      "outputs": []
    }
  ]
}