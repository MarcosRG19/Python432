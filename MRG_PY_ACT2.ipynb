{
  "nbformat": 4,
  "nbformat_minor": 0,
  "metadata": {
    "colab": {
      "provenance": [],
      "authorship_tag": "ABX9TyOphGesdGsZQ+hWki4XBnX/",
      "include_colab_link": true
    },
    "kernelspec": {
      "name": "python3",
      "display_name": "Python 3"
    },
    "language_info": {
      "name": "python"
    }
  },
  "cells": [
    {
      "cell_type": "markdown",
      "metadata": {
        "id": "view-in-github",
        "colab_type": "text"
      },
      "source": [
        "<a href=\"https://colab.research.google.com/github/MarcosRG19/Python432/blob/main/MRG_PY_ACT2.ipynb\" target=\"_parent\"><img src=\"https://colab.research.google.com/assets/colab-badge.svg\" alt=\"Open In Colab\"/></a>"
      ]
    },
    {
      "cell_type": "markdown",
      "source": [
        "1.- Programa en Python que lea 2 números enteros, usar una condición y analizar los dos números y desplegar cual de los números es el mayor."
      ],
      "metadata": {
        "id": "F-_A6sV-dD0F"
      }
    },
    {
      "cell_type": "code",
      "execution_count": null,
      "metadata": {
        "colab": {
          "base_uri": "https://localhost:8080/"
        },
        "id": "ZRm4OyDCc8Iw",
        "outputId": "516e6b84-da29-4ee8-a28a-4b8b89751f69"
      },
      "outputs": [
        {
          "output_type": "stream",
          "name": "stdout",
          "text": [
            "Dame el primer numero 4\n",
            "Dame el segundo numero 3\n",
            "El numero mayor es el primero\n"
          ]
        }
      ],
      "source": [
        "num1 = int(input(\"Dame el primer numero \"))\n",
        "num2 = int(input(\"Dame el segundo numero \"))\n",
        "if num1>num2:\n",
        "    print(\"El numero mayor es el primero\")\n",
        "if num2>num1:\n",
        "    print(\"El numero mayor es el segundo\")"
      ]
    },
    {
      "cell_type": "markdown",
      "source": [
        "2.- Programa en PythonAlgoritmo que lea 4 calificaciones de un alumno, calcular y desplegar el promedio acompañado de la leyenda \"APROBADO\" o \"REPROBADO\""
      ],
      "metadata": {
        "id": "5qkga4IjdW-D"
      }
    },
    {
      "cell_type": "code",
      "source": [
        "calif1 = int(input(\"Dame la primera calificacion \"))\n",
        "calif2 = int(input(\"Dame la segunda calificacion \"))\n",
        "calif3 = int(input(\"Dame la tercera calificacion \"))\n",
        "calif4 = int(input(\"Dame la cuarta calificacion \"))\n",
        "prom = (calif1+calif2+calif3+calif4)/4\n",
        "if prom>=60:\n",
        "    print(\"APROBADO\")\n",
        "if prom<60:\n",
        "    print(\"REPROBADO\")"
      ],
      "metadata": {
        "colab": {
          "base_uri": "https://localhost:8080/"
        },
        "id": "qdanReHLdXqJ",
        "outputId": "2b9ec46b-c93e-4e39-b938-142fba9a9af3"
      },
      "execution_count": null,
      "outputs": [
        {
          "output_type": "stream",
          "name": "stdout",
          "text": [
            "Dame la primera calificacion60\n",
            "Dame la segunda calificacion60\n",
            "Dame la tercera calificacion60\n",
            "Dame la cuarta calificacion60\n",
            "APROBADO\n"
          ]
        }
      ]
    },
    {
      "cell_type": "markdown",
      "source": [
        "\n",
        "3.- Programa en PythonAlgoritmo que a través de opciones (1.- HOMBRE 2.- MUJER ) preguntar al usuario cual es su sexo y desplegar la leyenda “HOMBRE ”, “MUJER”"
      ],
      "metadata": {
        "id": "Xx4LKa3ydX51"
      }
    },
    {
      "cell_type": "code",
      "source": [
        "print(\"1.- HOMBRE\")\n",
        "print(\"2.- MUJER\")\n",
        "sexo = int(input(\"Elige tu sexo \"))\n",
        "if sexo==1:\n",
        "    print(\"Eres hombre\")\n",
        "if sexo==2:\n",
        "    print(\"Eres mujer\")"
      ],
      "metadata": {
        "colab": {
          "base_uri": "https://localhost:8080/"
        },
        "id": "CJcDr0XhdYFN",
        "outputId": "41f00436-6ed1-423b-fc05-3ff6f165e045"
      },
      "execution_count": null,
      "outputs": [
        {
          "output_type": "stream",
          "name": "stdout",
          "text": [
            "1.- HOMBRE\n",
            "2.- MUJER\n",
            "Elige tu sexo 2\n",
            "Eres mujer\n"
          ]
        }
      ]
    },
    {
      "cell_type": "markdown",
      "source": [
        "4.- Programa en Python que lea un número entero, y desplegar si el número es “PAR” o “IMPAR”"
      ],
      "metadata": {
        "id": "Z_UIVqQPdYNt"
      }
    },
    {
      "cell_type": "code",
      "source": [
        "num = int(input(\"Dame el numero que quieres comprobar \"))\n",
        "if num % 2 ==0:\n",
        "    print(\"El numero es par\")\n",
        "if num % 2 == 1:\n",
        "    print(\"El numero es impar\")"
      ],
      "metadata": {
        "id": "xJtD1z54drHA",
        "colab": {
          "base_uri": "https://localhost:8080/"
        },
        "outputId": "640a676e-0216-4b7e-ad5b-d7b5313d3af1"
      },
      "execution_count": null,
      "outputs": [
        {
          "output_type": "stream",
          "name": "stdout",
          "text": [
            "Dame el numero que quieres comprobar 6\n",
            "El numero es par\n"
          ]
        }
      ]
    },
    {
      "cell_type": "markdown",
      "source": [
        "5.- Programa en Python que lea 2 números enteros, usar una condición y analizar los dos números y desplegar cual de los números es el mayor."
      ],
      "metadata": {
        "id": "lvhVuXmmdq8n"
      }
    },
    {
      "cell_type": "code",
      "source": [
        "num1 = int(input(\"Dame el primer numero \"))\n",
        "num2 = int(input(\"Dame el segundo numero \"))\n",
        "if num1>num2:\n",
        "    print(\"El primer numero es el mayor\")\n",
        "else:\n",
        "    print(\"El segundo numero es el mayor\")"
      ],
      "metadata": {
        "colab": {
          "base_uri": "https://localhost:8080/"
        },
        "id": "MkPGYVwNdYZW",
        "outputId": "791e6692-1dd2-441c-f36e-41ee3325778f"
      },
      "execution_count": null,
      "outputs": [
        {
          "output_type": "stream",
          "name": "stdout",
          "text": [
            "Dame el primer numero6\n",
            "Dame el segundo numero5\n",
            "El primer numero es el mayor\n"
          ]
        }
      ]
    },
    {
      "cell_type": "markdown",
      "source": [
        "6.- Programa en Python que lea 4 calificaciones de un alumno, calcular y desplegar el promedio acompañado de la leyenda APROBADO o REPROBADO"
      ],
      "metadata": {
        "id": "jQm0UwpmdtNU"
      }
    },
    {
      "cell_type": "code",
      "source": [
        "calif1 = int(input(\"Dame la primera calificacion \"))\n",
        "calif2 = int(input(\"Dame la segunda calificacion \"))\n",
        "calif3 = int(input(\"Dame la tercera calificacion \"))\n",
        "calif4 = int(input(\"Dame la cuarta calificacion \"))\n",
        "prom = (calif1 + calif2 + calif3 + calif4)/4\n",
        "if prom>=60:\n",
        "    print(\"APROBADO\")\n",
        "else:\n",
        "    print(\"REPROBADO\")"
      ],
      "metadata": {
        "id": "pX5ewMukdtjH",
        "colab": {
          "base_uri": "https://localhost:8080/"
        },
        "outputId": "fa122697-e498-4590-e9fb-8f1b90e7651c"
      },
      "execution_count": null,
      "outputs": [
        {
          "output_type": "stream",
          "name": "stdout",
          "text": [
            "Dame la primera calificacion 60\n",
            "Dame la segunda calificacion 60\n",
            "Dame la tercera calificacion 60\n",
            "Dame la cuarta calificacion 60\n",
            "APROBADO\n"
          ]
        }
      ]
    },
    {
      "cell_type": "markdown",
      "source": [
        "7.- Programa en Python que a través de opciones (1.- HOMBRE 2.- MUJER ) preguntar al usuario cual es su sexo y desplegar la leyenda “HOMBRE ”, “MUJER”"
      ],
      "metadata": {
        "id": "h-gdHXQ4dtuV"
      }
    },
    {
      "cell_type": "code",
      "source": [
        "print(\"1.- HOMBRE\")\n",
        "print(\"2.- MUJER\")\n",
        "sexo = int(input(\"Elige tu sexo \"))\n",
        "if sexo==1:\n",
        "    print(\"Usted es hombre\")\n",
        "elif sexo==2:\n",
        "    print(\"Usted es mujer\")"
      ],
      "metadata": {
        "id": "Wm2R7HI6dt5m",
        "colab": {
          "base_uri": "https://localhost:8080/"
        },
        "outputId": "a7e48fe1-f63c-4c49-daae-6db0c4bc43e1"
      },
      "execution_count": null,
      "outputs": [
        {
          "output_type": "stream",
          "name": "stdout",
          "text": [
            "1.- HOMBRE\n",
            "2.- MUJER\n",
            "Elige tu sexo 2\n",
            "Usted es mujer\n"
          ]
        }
      ]
    },
    {
      "cell_type": "markdown",
      "source": [
        "8.- Programa en Python que lea un número entero, y desplegar si el número es “PAR” o “IMPAR” NOTA: EJERCICIOS PARA SER RESUELTOS USANDO EXCLUSIVAMENTE CONDICIONES COMPUESTO"
      ],
      "metadata": {
        "id": "5JN8wI-VduG3"
      }
    },
    {
      "cell_type": "code",
      "source": [
        "num = int(input(\"Dame el numero que quieres comprobar \"))\n",
        "if num % 2 ==0:\n",
        "    print(\"El numero es par\")\n",
        "else:\n",
        "    print(\"El numero es impar\")"
      ],
      "metadata": {
        "id": "h_eUuxWOduSI",
        "colab": {
          "base_uri": "https://localhost:8080/"
        },
        "outputId": "34560929-e4a7-45e3-c34f-7a0304e988d6"
      },
      "execution_count": null,
      "outputs": [
        {
          "output_type": "stream",
          "name": "stdout",
          "text": [
            "Dame el numero que quieres comprobar 6\n",
            "El numero es par\n"
          ]
        }
      ]
    }
  ]
}