{
  "nbformat": 4,
  "nbformat_minor": 0,
  "metadata": {
    "colab": {
      "provenance": [],
      "authorship_tag": "ABX9TyMuBzEmDUgiaGbWgu/cAq/b",
      "include_colab_link": true
    },
    "kernelspec": {
      "name": "python3",
      "display_name": "Python 3"
    },
    "language_info": {
      "name": "python"
    }
  },
  "cells": [
    {
      "cell_type": "markdown",
      "metadata": {
        "id": "view-in-github",
        "colab_type": "text"
      },
      "source": [
        "<a href=\"https://colab.research.google.com/github/MarcosRG19/Python432/blob/main/RGM_A01_432.ipynb\" target=\"_parent\"><img src=\"https://colab.research.google.com/assets/colab-badge.svg\" alt=\"Open In Colab\"/></a>"
      ]
    },
    {
      "cell_type": "markdown",
      "source": [
        "# ACTIVIDAD 1\n",
        "1.- Programa en Python Mostrar un mensaje que diga “HOLA MUNDO” en un solo renglón usando 2 print"
      ],
      "metadata": {
        "id": "TZ7Sg0iSPwse"
      }
    },
    {
      "cell_type": "code",
      "execution_count": 11,
      "metadata": {
        "colab": {
          "base_uri": "https://localhost:8080/",
          "height": 0
        },
        "id": "5wZRHWGQPo3t",
        "outputId": "28862bad-881d-4757-97c4-534f892dae59"
      },
      "outputs": [
        {
          "output_type": "stream",
          "name": "stdout",
          "text": [
            "HOLA MUNDO\n"
          ]
        }
      ],
      "source": [
        "print(\"HOLA\",end=' ')\n",
        "print(\"MUNDO\")\n"
      ]
    },
    {
      "cell_type": "markdown",
      "source": [
        "2.- Programa en Python que lea 2 números, realizar la suma y desplegar la suma de los 2 números"
      ],
      "metadata": {
        "id": "tGYQuwktP9aX"
      }
    },
    {
      "cell_type": "code",
      "source": [
        "num1 = int(input(\"Dame el primer numero \"))\n",
        "num2 = int(input(\"Dame el segundo numero \"))\n",
        "suma = num1 + num2\n",
        "print(\"La suma de los dos numeros es\",suma)"
      ],
      "metadata": {
        "id": "2wXuSgyqP90W",
        "colab": {
          "base_uri": "https://localhost:8080/",
          "height": 0
        },
        "outputId": "194e7221-b8f0-470f-85ab-3f9bdfaa9a5d"
      },
      "execution_count": 15,
      "outputs": [
        {
          "output_type": "stream",
          "name": "stdout",
          "text": [
            "Dame el primer numero 2\n",
            "Dame el segundo numero 2\n",
            "La suma de los dos numeros es 4\n"
          ]
        }
      ]
    },
    {
      "cell_type": "markdown",
      "source": [
        "3.- Programa en Python que lea 2 números y realice las 4 operaciones básicas"
      ],
      "metadata": {
        "id": "3BC4fPeJP-Dy"
      }
    },
    {
      "cell_type": "code",
      "source": [
        "num1 = int(input(\"Dame el primer numero \"))\n",
        "num2 = int(input(\"Dame el segundo numero \"))\n",
        "suma = num1 + num2\n",
        "resta = num1 - num2\n",
        "mult = num1 * num2\n",
        "div = num1 /num2\n",
        "print(\"La suma de los dos numeros es\",suma)\n",
        "print(\"La resta de los dos numeros es\",resta)\n",
        "print(\"La multiplicacion de los dos numeros es\",mult)\n",
        "print(\"La division de los dos numeros es\",div)"
      ],
      "metadata": {
        "id": "Dt4Jq9MhP-X1",
        "colab": {
          "base_uri": "https://localhost:8080/",
          "height": 0
        },
        "outputId": "70692b71-1f41-418f-9329-7b27ad1c6683"
      },
      "execution_count": 17,
      "outputs": [
        {
          "output_type": "stream",
          "name": "stdout",
          "text": [
            "Dame el primer numero 10\n",
            "Dame el segundo numero 9\n",
            "La suma de los dos numeros es 19\n",
            "La resta de los dos numeros es 1\n",
            "La multiplicacion de los dos numeros es 90\n",
            "La division de los dos numeros es 1.1111111111111112\n"
          ]
        }
      ]
    },
    {
      "cell_type": "markdown",
      "source": [
        "4.- Programa en Python Que sirva para calcular el área de un triángulo"
      ],
      "metadata": {
        "id": "Q0t8Ga6MQuCT"
      }
    },
    {
      "cell_type": "code",
      "source": [
        "base = float(input(\"Dame la medida de la base del triangulo \"))\n",
        "alt = float(input(\"Dame la medida de la altura del triangulo \"))\n",
        "area = (base*alt)/2\n",
        "print(\"El area del triangulo es \",area)"
      ],
      "metadata": {
        "id": "Rm3QowVLQuUF",
        "colab": {
          "base_uri": "https://localhost:8080/",
          "height": 0
        },
        "outputId": "f25af6bf-1fa3-4241-8ad7-6e83137665f9"
      },
      "execution_count": 19,
      "outputs": [
        {
          "output_type": "stream",
          "name": "stdout",
          "text": [
            "Dame la medida de la base del triangulo 5.2\n",
            "Dame la medida de la altura del triangulo 9\n",
            "El area del triangulo es  23.400000000000002\n"
          ]
        }
      ]
    },
    {
      "cell_type": "markdown",
      "source": [
        "5.- Programa en Python que lea una medida en centímetros y desplegar la misma medida pero convertida en pies y pulgadas"
      ],
      "metadata": {
        "id": "An0v6lO_QvaP"
      }
    },
    {
      "cell_type": "code",
      "source": [
        "med = float(input(\"Dame la medida en centimetros que quieres convertir \"))\n",
        "pies = med/30.48\n",
        "pulg = med/2.54\n",
        "print(\"La medida en pies es:\",pies)\n",
        "print(\"La medida en pulgadas es:\",pulg)"
      ],
      "metadata": {
        "id": "lq5in28AQvt1",
        "colab": {
          "base_uri": "https://localhost:8080/",
          "height": 0
        },
        "outputId": "00fa3df3-634b-4de2-90ca-915e3242b280"
      },
      "execution_count": 21,
      "outputs": [
        {
          "output_type": "stream",
          "name": "stdout",
          "text": [
            "Dame la medida en centimetros que quieres convertir 50\n",
            "La medida en pies es: 1.6404199475065617\n",
            "La medida en pulgadas es: 19.68503937007874\n"
          ]
        }
      ]
    },
    {
      "cell_type": "markdown",
      "source": [
        "6.- Programa en Python que lea una temperatura en grados centígrados y desplegarla en Grados Fahrenheit y grados kelvin"
      ],
      "metadata": {
        "id": "ttTOdZ3FRlI7"
      }
    },
    {
      "cell_type": "code",
      "source": [
        "temp = float(input(\"Dame la temperatura que quieras convertir \"))\n",
        "fahr = (temp*(9/5))+32\n",
        "kelv = temp + 273.15\n",
        "print(\"En grados Fahrenheit la temperatura es:\",fahr)\n",
        "print(\"En grados Kelvin la temperatura es:\",kelv)"
      ],
      "metadata": {
        "id": "lMMeiszIRlaY",
        "colab": {
          "base_uri": "https://localhost:8080/",
          "height": 0
        },
        "outputId": "5012d48e-6b97-4925-c048-d1cc42eb25d1"
      },
      "execution_count": 27,
      "outputs": [
        {
          "output_type": "stream",
          "name": "stdout",
          "text": [
            "Dame la temperatura que quieras convertir 19\n",
            "En grados Fahrenheit la temperatura es: 66.2\n",
            "En grados Kelvin la temperatura es: 292.15\n"
          ]
        }
      ]
    },
    {
      "cell_type": "markdown",
      "source": [
        "7.- Programa en Python que lea 4 calificaciones de un alumno, desplegar el promedio del alumno"
      ],
      "metadata": {
        "id": "wJuXnYX0RlpT"
      }
    },
    {
      "cell_type": "code",
      "source": [
        "calif1 = int(input(\"Dame la calificacion 1: \"))\n",
        "calif2 = int(input(\"Dame la calificacion 2: \"))\n",
        "calif3 = int(input(\"Dame la calificacion 3: \"))\n",
        "calif4 = int(input(\"Dame la calificacion 4: \"))\n",
        "prom = (calif1 + calif2 + calif3 + calif4)/4\n",
        "print(\"El promedio del alumno es:\",prom)\n"
      ],
      "metadata": {
        "id": "qBzgULlPRl9j",
        "colab": {
          "base_uri": "https://localhost:8080/",
          "height": 0
        },
        "outputId": "7e62ab03-ea30-49aa-c8c6-48e9fc4bb2f3"
      },
      "execution_count": 26,
      "outputs": [
        {
          "output_type": "stream",
          "name": "stdout",
          "text": [
            "Dame la calificacion 1: 10\n",
            "Dame la calificacion 2: 8\n",
            "Dame la calificacion 3: 5\n",
            "Dame la calificacion 4: 8\n",
            "El promedio del alumno es: 7.75\n"
          ]
        }
      ]
    }
  ]
}