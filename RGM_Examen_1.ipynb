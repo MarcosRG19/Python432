{
  "nbformat": 4,
  "nbformat_minor": 0,
  "metadata": {
    "colab": {
      "provenance": [],
      "authorship_tag": "ABX9TyPAtyEuUeDPNT9uhdXDsdOS",
      "include_colab_link": true
    },
    "kernelspec": {
      "name": "python3",
      "display_name": "Python 3"
    },
    "language_info": {
      "name": "python"
    }
  },
  "cells": [
    {
      "cell_type": "markdown",
      "metadata": {
        "id": "view-in-github",
        "colab_type": "text"
      },
      "source": [
        "<a href=\"https://colab.research.google.com/github/MarcosRG19/Python432/blob/main/RGM_Examen_1.ipynb\" target=\"_parent\"><img src=\"https://colab.research.google.com/assets/colab-badge.svg\" alt=\"Open In Colab\"/></a>"
      ]
    },
    {
      "cell_type": "markdown",
      "source": [
        "funcion que retorne un diccionario con los datos basicos de un alumno (pedir al usuario y validar)"
      ],
      "metadata": {
        "id": "oL6_Vfbp9ft_"
      }
    },
    {
      "cell_type": "code",
      "execution_count": 1,
      "metadata": {
        "id": "Jj2aEZWB9cp0"
      },
      "outputs": [],
      "source": [
        "def diccionar():\n",
        "    band = True\n",
        "    while band:\n",
        "        try:\n",
        "            matri = int(input(\"INGRESA TU MATRICULA (300000 - 399999)\"))\n",
        "            print(\"INGRESA TU NOMBRE \")\n",
        "            nomb = input()\n",
        "            print(\"INGRESA TU APELLIDO PATERNO \")\n",
        "            appat = input()\n",
        "            print(\"INGRESA TU APELLIDO MATERNO \")\n",
        "            apmat = input()\n",
        "            print(\"INGRESA TU EDAD \")\n",
        "            edad = input()\n",
        "            print(\"SELECCIONE SU SEXO 1.- HOMBRE 2.- MUJER \")\n",
        "            sexo = int(input())\n",
        "        except:\n",
        "            print(\"INTRODUJO UN VALOR ERRONEO, COMIENCE DE NUEVO\")\n",
        "        else:\n",
        "            if sexo == 1:\n",
        "                diccionario = {\"MATRICULA\":matri,\"NOMBRE\":nomb, \"APELLIDO PATERNO\":appat,\n",
        "                               \"APELLIDO MATERNO\":apmat, \"EDAD\":edad, \"SEXO\":\"HOMBRE\"}\n",
        "            elif sexo == 2:\n",
        "                diccionario = {\"MATRICULA\":matri,\"NOMBRE\":nomb, \"APELLIDO PATERNO\":appat,\n",
        "                               \"APELLIDO MATERNO\":apmat, \"EDAD\":edad, \"SEXO\":\"MUJER\"}\n",
        "            band = False\n",
        "    return diccionario"
      ]
    },
    {
      "cell_type": "code",
      "source": [
        "dic = diccionar()\n",
        "print(dic)"
      ],
      "metadata": {
        "colab": {
          "base_uri": "https://localhost:8080/"
        },
        "id": "EUBhnTyU_AoB",
        "outputId": "3f867a43-eb10-4395-c77a-d8676d740ed1"
      },
      "execution_count": 2,
      "outputs": [
        {
          "output_type": "stream",
          "name": "stdout",
          "text": [
            "INGRESA TU MATRICULA (300000 - 399999)361603\n",
            "INGRESA TU NOMBRE \n",
            "MARCOS\n",
            "INGRESA TU APELLIDO PATERNO \n",
            "RUIZ\n",
            "INGRESA TU APELLIDO MATERNO \n",
            "GONZALEZ\n",
            "INGRESA TU EDAD \n",
            "24\n",
            "SELECCIONE SU SEXO 1.- HOMBRE 2.- MUJER \n",
            "1\n",
            "{'MATRICULA': 361603, 'NOMBRE': 'MARCOS', 'APELLIDO PATERNO': 'RUIZ', 'APELLIDO MATERNO': 'GONZALEZ', 'EDAD': '24', 'SEXO': 'HOMBRE'}\n"
          ]
        }
      ]
    }
  ]
}