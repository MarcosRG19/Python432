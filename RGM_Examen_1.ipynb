{
  "nbformat": 4,
  "nbformat_minor": 0,
  "metadata": {
    "colab": {
      "provenance": [],
      "authorship_tag": "ABX9TyNnC9gWbGRL5q/o+1/McFU2",
      "include_colab_link": true
    },
    "kernelspec": {
      "name": "python3",
      "display_name": "Python 3"
    },
    "language_info": {
      "name": "python"
    }
  },
  "cells": [
    {
      "cell_type": "markdown",
      "metadata": {
        "id": "view-in-github",
        "colab_type": "text"
      },
      "source": [
        "<a href=\"https://colab.research.google.com/github/MarcosRG19/Python432/blob/main/RGM_Examen_1.ipynb\" target=\"_parent\"><img src=\"https://colab.research.google.com/assets/colab-badge.svg\" alt=\"Open In Colab\"/></a>"
      ]
    },
    {
      "cell_type": "markdown",
      "source": [
        "# Ejercicio 1"
      ],
      "metadata": {
        "id": "DqU6v_mRD0aF"
      }
    },
    {
      "cell_type": "markdown",
      "source": [
        "funcion que retorne un diccionario con los datos basicos de un alumno (pedir al usuario y validar)"
      ],
      "metadata": {
        "id": "oL6_Vfbp9ft_"
      }
    },
    {
      "cell_type": "code",
      "execution_count": 1,
      "metadata": {
        "id": "Jj2aEZWB9cp0"
      },
      "outputs": [],
      "source": [
        "def diccionar():\n",
        "    band = True\n",
        "    while band:\n",
        "        try:\n",
        "            matri = int(input(\"INGRESA TU MATRICULA (300000 - 399999)\"))\n",
        "            print(\"INGRESA TU NOMBRE \")\n",
        "            nomb = input()\n",
        "            print(\"INGRESA TU APELLIDO PATERNO \")\n",
        "            appat = input()\n",
        "            print(\"INGRESA TU APELLIDO MATERNO \")\n",
        "            apmat = input()\n",
        "            print(\"INGRESA TU EDAD \")\n",
        "            edad = input()\n",
        "            print(\"SELECCIONE SU SEXO 1.- HOMBRE 2.- MUJER \")\n",
        "            sexo = int(input())\n",
        "        except:\n",
        "            print(\"INTRODUJO UN VALOR ERRONEO, COMIENCE DE NUEVO\")\n",
        "        else:\n",
        "            if sexo == 1:\n",
        "                diccionario = {\"MATRICULA\":matri,\"NOMBRE\":nomb, \"APELLIDO PATERNO\":appat,\n",
        "                               \"APELLIDO MATERNO\":apmat, \"EDAD\":edad, \"SEXO\":\"HOMBRE\"}\n",
        "            elif sexo == 2:\n",
        "                diccionario = {\"MATRICULA\":matri,\"NOMBRE\":nomb, \"APELLIDO PATERNO\":appat,\n",
        "                               \"APELLIDO MATERNO\":apmat, \"EDAD\":edad, \"SEXO\":\"MUJER\"}\n",
        "            band = False\n",
        "    return diccionario"
      ]
    },
    {
      "cell_type": "code",
      "source": [
        "dic = diccionar()\n",
        "print(dic)"
      ],
      "metadata": {
        "colab": {
          "base_uri": "https://localhost:8080/"
        },
        "id": "EUBhnTyU_AoB",
        "outputId": "3f867a43-eb10-4395-c77a-d8676d740ed1"
      },
      "execution_count": 2,
      "outputs": [
        {
          "output_type": "stream",
          "name": "stdout",
          "text": [
            "INGRESA TU MATRICULA (300000 - 399999)361603\n",
            "INGRESA TU NOMBRE \n",
            "MARCOS\n",
            "INGRESA TU APELLIDO PATERNO \n",
            "RUIZ\n",
            "INGRESA TU APELLIDO MATERNO \n",
            "GONZALEZ\n",
            "INGRESA TU EDAD \n",
            "24\n",
            "SELECCIONE SU SEXO 1.- HOMBRE 2.- MUJER \n",
            "1\n",
            "{'MATRICULA': 361603, 'NOMBRE': 'MARCOS', 'APELLIDO PATERNO': 'RUIZ', 'APELLIDO MATERNO': 'GONZALEZ', 'EDAD': '24', 'SEXO': 'HOMBRE'}\n"
          ]
        }
      ]
    },
    {
      "cell_type": "markdown",
      "source": [
        "# Ejercicio 2"
      ],
      "metadata": {
        "id": "b02Oia4iD5g0"
      }
    },
    {
      "cell_type": "markdown",
      "source": [
        "funcion que retorne una lista con 30 numeros generados aleatorios (20-60) no repetidos\n",
        "\n",
        "\n",
        "\n",
        "Escribir dos bloques de codigo que mande llamar la funcion y desplegar el resultado,\n",
        "\n",
        "bloque 1, llamar funcion y mostrar la lista normal desordenada\n",
        "\n",
        "bloque 2 . llamar funcion y mostrar la lista ordenada"
      ],
      "metadata": {
        "id": "98N9vEHjD7_U"
      }
    },
    {
      "cell_type": "code",
      "source": [
        "import random"
      ],
      "metadata": {
        "id": "rA9d_AEaERGb"
      },
      "execution_count": 3,
      "outputs": []
    },
    {
      "cell_type": "code",
      "source": [
        "def Listarand():\n",
        "    lista = []\n",
        "    i=0\n",
        "    while i<30:\n",
        "        num = random.randrange(20,60)\n",
        "        if num not in lista:\n",
        "            lista.append(num)\n",
        "            i+=1\n",
        "    return lista"
      ],
      "metadata": {
        "id": "agesnJhCEJHb"
      },
      "execution_count": 6,
      "outputs": []
    },
    {
      "cell_type": "code",
      "source": [
        "numeros = Listarand()\n",
        "print(numeros)"
      ],
      "metadata": {
        "colab": {
          "base_uri": "https://localhost:8080/"
        },
        "id": "oBNGPiYwFN7v",
        "outputId": "38a47e40-29b2-4d8a-f27c-709eb69249d8"
      },
      "execution_count": 7,
      "outputs": [
        {
          "output_type": "stream",
          "name": "stdout",
          "text": [
            "[41, 22, 57, 49, 31, 25, 38, 44, 21, 45, 51, 46, 28, 55, 35, 59, 33, 37, 39, 47, 43, 50, 56, 29, 34, 24, 27, 23, 30, 32]\n"
          ]
        }
      ]
    },
    {
      "cell_type": "code",
      "source": [
        "numeros = Listarand()\n",
        "i=0\n",
        "for i in range(0,29):\n",
        "    for j in range(0,29):\n",
        "        if numeros[i]<numeros[j]:\n",
        "            aux = numeros[i]\n",
        "            numeros[i] = numeros[j]\n",
        "            numeros[j] = aux\n",
        "print(numeros)"
      ],
      "metadata": {
        "colab": {
          "base_uri": "https://localhost:8080/"
        },
        "id": "10M-UbGqFwsG",
        "outputId": "805ab343-3164-4896-f537-842aa653d7ba"
      },
      "execution_count": 18,
      "outputs": [
        {
          "output_type": "stream",
          "name": "stdout",
          "text": [
            "[21, 22, 23, 24, 27, 28, 29, 32, 33, 35, 36, 37, 39, 40, 41, 43, 44, 45, 47, 48, 50, 51, 52, 54, 55, 56, 57, 58, 59, 53]\n"
          ]
        }
      ]
    },
    {
      "cell_type": "markdown",
      "source": [
        "# EJERCICIO 3"
      ],
      "metadata": {
        "id": "OYFuiYqjIimS"
      }
    },
    {
      "cell_type": "markdown",
      "source": [
        "funcion que retorne el resultado del area de un triangulo\n",
        "\n",
        "Escribir codigo que mande llamar la funcion y desplegar el resultado,\n",
        "\n",
        "Pedir al usuario los datos de entrada y VALIDAR da tos entrada"
      ],
      "metadata": {
        "id": "8V1fQeJkImFy"
      }
    },
    {
      "cell_type": "code",
      "source": [
        "def Area():\n",
        "    band = True\n",
        "    while band:\n",
        "        try:\n",
        "            base = float(input(\"INGRESE LA MEDIDA DE LA BASE DEL TRIANGULO \"))\n",
        "            altura = float(input(\"INGRESE LA MEDIDA DE LA ALTURA DEL TRIANGULO \"))\n",
        "        except:\n",
        "            print(\"INGRESO UN VALOR INVALIDO\")\n",
        "        else:\n",
        "            area = (base*altura)/2\n",
        "            band = False\n",
        "    return area"
      ],
      "metadata": {
        "id": "ilH4e-mGIoii"
      },
      "execution_count": 21,
      "outputs": []
    },
    {
      "cell_type": "code",
      "source": [
        "res = Area()\n",
        "print(f\"EL AREA DEL TRIANGULO ES: {res}\")"
      ],
      "metadata": {
        "colab": {
          "base_uri": "https://localhost:8080/"
        },
        "id": "HSIyenvkJigB",
        "outputId": "c1a6f748-1f36-402e-f7d8-ea18b0f47f83"
      },
      "execution_count": 24,
      "outputs": [
        {
          "output_type": "stream",
          "name": "stdout",
          "text": [
            "INGRESE LA MEDIDA DE LA BASE DEL TRIANGULO slad\n",
            "INGRESO UN VALOR INVALIDO\n",
            "INGRESE LA MEDIDA DE LA BASE DEL TRIANGULO reg\n",
            "INGRESO UN VALOR INVALIDO\n",
            "INGRESE LA MEDIDA DE LA BASE DEL TRIANGULO 5\n",
            "INGRESE LA MEDIDA DE LA ALTURA DEL TRIANGULO 10\n",
            "EL AREA DEL TRIANGULO ES: 25.0\n"
          ]
        }
      ]
    }
  ]
}