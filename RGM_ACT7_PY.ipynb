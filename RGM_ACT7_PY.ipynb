{
  "nbformat": 4,
  "nbformat_minor": 0,
  "metadata": {
    "colab": {
      "provenance": [],
      "authorship_tag": "ABX9TyMBg07gZ3dAZd1UFr0jGY1q",
      "include_colab_link": true
    },
    "kernelspec": {
      "name": "python3",
      "display_name": "Python 3"
    },
    "language_info": {
      "name": "python"
    }
  },
  "cells": [
    {
      "cell_type": "markdown",
      "metadata": {
        "id": "view-in-github",
        "colab_type": "text"
      },
      "source": [
        "<a href=\"https://colab.research.google.com/github/MarcosRG19/Python432/blob/main/RGM_ACT7_PY.ipynb\" target=\"_parent\"><img src=\"https://colab.research.google.com/assets/colab-badge.svg\" alt=\"Open In Colab\"/></a>"
      ]
    },
    {
      "cell_type": "markdown",
      "source": [
        "# ACTIVIDAD 7"
      ],
      "metadata": {
        "id": "pOGTOqLY470r"
      }
    },
    {
      "cell_type": "markdown",
      "source": [
        "1.- Función que utilice una lista con los nombres de tus mascotas, o artistas favoritos, (minimo 5, maximo 10) imprimir las cadenas y la cantidad de caracteres de cada cadena.  \n",
        "\n",
        "EJEMPLO SALIDA:\n",
        "\n",
        "[0]SCARLETT --> 8 CARACTERES\n",
        "\n",
        "[1]GATINA --> 6 CARACTERES\n",
        "\n",
        "[2]PELUSA --> 6 CARACTERES\n",
        "\n",
        "[3]PELUSINA --> 8 CARACTERES\n",
        "\n",
        "[4]MILO --> 4 CARACTERES\n",
        "\n",
        "[5]KHALIFA --> 7 CARACTERES"
      ],
      "metadata": {
        "id": "rUGKJLeD5BWl"
      }
    },
    {
      "cell_type": "code",
      "source": [
        "import random"
      ],
      "metadata": {
        "id": "cC1oTsxTHQ4m"
      },
      "execution_count": null,
      "outputs": []
    },
    {
      "cell_type": "code",
      "execution_count": null,
      "metadata": {
        "colab": {
          "base_uri": "https://localhost:8080/"
        },
        "id": "E2swAjND3gth",
        "outputId": "b6829cab-5b9d-4bb6-b030-cc0d0f67aad3"
      },
      "outputs": [
        {
          "output_type": "stream",
          "name": "stdout",
          "text": [
            "[1] Noah ---> 4 Caracteres\n",
            "[2] Corey ---> 5 Caracteres\n",
            "[3] Tim ---> 3 Caracteres\n",
            "[4] Adam ---> 4 Caracteres\n",
            "[5] Matt ---> 4 Caracteres\n",
            "[6] John ---> 4 Caracteres\n",
            "[7] Paul ---> 4 Caracteres\n",
            "[8] George ---> 6 Caracteres\n",
            "[9] Amy ---> 3 Caracteres\n",
            "[10] Chester ---> 7 Caracteres\n"
          ]
        }
      ],
      "source": [
        "def Mascotas():\n",
        "    nombres=['Noah','Corey','Tim','Adam','Matt','John','Paul','George','Amy','Chester']\n",
        "    for i in range(0,10,1):\n",
        "        print(f\"[{i+1}] {nombres[i]} ---> {len(nombres[i])} Caracteres\")\n",
        "\n",
        "Mascotas()"
      ]
    },
    {
      "cell_type": "markdown",
      "source": [
        "2.- Programa que utilice 2 funciones,\n",
        "\n",
        "Función que genere y regrese una lista con 10 números aleatorios entre el 30 y 50 (no repetidos).\n",
        "Función que reciba una lista , Imprimir la lista (Indice y Valor )\n",
        "\n",
        "\n",
        " Mandar llamar la función e imprimir toda la lista."
      ],
      "metadata": {
        "id": "z7OB1XgH5GX1"
      }
    },
    {
      "cell_type": "code",
      "source": [
        "def Num_Alea():\n",
        "    lista=[]\n",
        "    i=0\n",
        "    while i<10:\n",
        "        num=random.randrange(30,50)\n",
        "        if num not in lista:\n",
        "            lista.append(num)\n",
        "            i+=1\n",
        "        else:\n",
        "            continue\n",
        "    return lista\n",
        "Num_Alea()"
      ],
      "metadata": {
        "colab": {
          "base_uri": "https://localhost:8080/"
        },
        "id": "pYVX9S-o5GnC",
        "outputId": "961a66a1-f866-4fff-b3a4-cfd0f58eb069"
      },
      "execution_count": null,
      "outputs": [
        {
          "output_type": "execute_result",
          "data": {
            "text/plain": [
              "[40, 42, 47, 48, 46, 32, 36, 34, 33, 31]"
            ]
          },
          "metadata": {},
          "execution_count": 6
        }
      ]
    },
    {
      "cell_type": "code",
      "source": [
        "def Print_lista(lista):\n",
        "    for i in range(0,10,1):\n",
        "        print(f\"Indice {i} --> Valor {lista[i]}\")\n",
        "    print(lista)\n",
        "Print_lista(Num_Alea())\n"
      ],
      "metadata": {
        "colab": {
          "base_uri": "https://localhost:8080/"
        },
        "id": "cQq4fW-CJl-s",
        "outputId": "bdc9d5d9-123b-4583-9db4-21be93e7bd26"
      },
      "execution_count": null,
      "outputs": [
        {
          "output_type": "stream",
          "name": "stdout",
          "text": [
            "Indice 0 --> Valor 45\n",
            "Indice 1 --> Valor 35\n",
            "Indice 2 --> Valor 39\n",
            "Indice 3 --> Valor 40\n",
            "Indice 4 --> Valor 38\n",
            "Indice 5 --> Valor 49\n",
            "Indice 6 --> Valor 32\n",
            "Indice 7 --> Valor 47\n",
            "Indice 8 --> Valor 31\n",
            "Indice 9 --> Valor 37\n",
            "[45, 35, 39, 40, 38, 49, 32, 47, 31, 37]\n"
          ]
        }
      ]
    },
    {
      "cell_type": "markdown",
      "source": [
        "3.- Escribe una función que reciba dos listas de números del mismo tamaño y calcule la suma de los elementos correspondientes de cada lista. (regresar una nueva lista) . Luego, muestra una lista con los resultados de cada suma. Nota: si las listas no son del mismo tamaño mandar msge y utilizar el tamaño de la lista mas pequeña)"
      ],
      "metadata": {
        "id": "CQLSeO005G3w"
      }
    },
    {
      "cell_type": "code",
      "source": [
        "def Suma_listas(lista1,lista2):\n",
        "    suma=[]\n",
        "    x=len(lista1)\n",
        "    y=len(lista2)\n",
        "    if x != y:\n",
        "        print(\"LAS LISTAS SON DE DIFERENTES TAMAÑOS, SE UTILIZARA EL TAMAÑO DE LA LISTA MENOR\")\n",
        "        tam_min=min(x,y)\n",
        "    else:\n",
        "        tam_min=x\n",
        "    for i in range(tam_min):\n",
        "        suma.append(lista1[i]+lista2[i])\n",
        "    print(f\"LISTA 1: {lista1}\")\n",
        "    print(f\"LISTA 2: {lista2}\")\n",
        "    print(\"LA LISTA CON LAS SUMAS ES\")\n",
        "    return suma\n",
        ""
      ],
      "metadata": {
        "id": "Hd0Lr-gF5HPl"
      },
      "execution_count": 35,
      "outputs": []
    },
    {
      "cell_type": "code",
      "source": [
        "lista1=[10,20,30,40,50]\n",
        "lista2=[60,70,80,90]\n",
        "Suma_listas(lista1,lista2)"
      ],
      "metadata": {
        "id": "OvcJWM8JlSJ9",
        "colab": {
          "base_uri": "https://localhost:8080/",
          "height": 0
        },
        "outputId": "f604af3f-0eb1-4c14-f321-95aacde8d72e"
      },
      "execution_count": 36,
      "outputs": [
        {
          "output_type": "stream",
          "name": "stdout",
          "text": [
            "LAS LISTAS SON DE DIFERENTES TAMAÑOS, SE UTILIZARA EL TAMAÑO DE LA LISTA MENOR\n",
            "LISTA 1: [10, 20, 30, 40, 50]\n",
            "LISTA 2: [60, 70, 80, 90]\n",
            "LA LISTA CON LAS SUMAS ES\n"
          ]
        },
        {
          "output_type": "execute_result",
          "data": {
            "text/plain": [
              "[70, 90, 110, 130]"
            ]
          },
          "metadata": {},
          "execution_count": 36
        }
      ]
    },
    {
      "cell_type": "markdown",
      "source": [
        "4.- Escribe una función llamada eliminar_duplicados que reciba una lista como parámetro y elimine los elementos duplicados. El resultado debe ser una nueva lista sin duplicados. Pide al usuario que ingrese una lista y luego llama a la función eliminar_duplicados para mostrar la lista sin duplicados. (Solo Numeros enteros, validar)\n",
        "\n"
      ],
      "metadata": {
        "id": "N85-p6jw5Hcg"
      }
    },
    {
      "cell_type": "code",
      "source": [
        "def Sin_duplicados(lista):\n",
        "    no_dup=[]\n",
        "    for valor in lista:\n",
        "        if valor not in no_dup:\n",
        "            no_dup.append(valor)\n",
        "    return no_dup"
      ],
      "metadata": {
        "id": "zROjOCw35HwW"
      },
      "execution_count": 37,
      "outputs": []
    },
    {
      "cell_type": "code",
      "source": [
        "def valid_num():\n",
        "    while True:\n",
        "        try:\n",
        "            num=int(input(\"INGRESE UN VALOR ENTERO\"))\n",
        "            return num\n",
        "        except:\n",
        "            print(\"NUMEROS ENTEROS POR FAVOR\")"
      ],
      "metadata": {
        "id": "eL2oms077xMq"
      },
      "execution_count": 38,
      "outputs": []
    },
    {
      "cell_type": "code",
      "source": [
        "lista_comp=[]\n",
        "print(\"¿CUANTOS ELEMENTOS TENDRA LA LISTA?\")\n",
        "tam_lista=valid_num()\n",
        "for i in range(tam_lista):\n",
        "    valor=valid_num()\n",
        "    lista_comp.append(valor)\n",
        "\n",
        "no_dup=Sin_duplicados(lista_comp)\n",
        "print(f\"LA LISTA INGRESADA FUE: {lista_comp}\")\n",
        "print(f\"LA LISTA SIN LOS DUPLICADOS ES: {no_dup}\")"
      ],
      "metadata": {
        "colab": {
          "base_uri": "https://localhost:8080/",
          "height": 0
        },
        "id": "9tGBeVb49kz0",
        "outputId": "cc7a9a79-f27a-475f-e4ba-ba0fe705f1c5"
      },
      "execution_count": 39,
      "outputs": [
        {
          "output_type": "stream",
          "name": "stdout",
          "text": [
            "¿CUANTOS ELEMENTOS TENDRA LA LISTA?\n",
            "INGRESE UN VALOR ENTERO10\n",
            "INGRESE UN VALOR ENTERO12\n",
            "INGRESE UN VALOR ENTERO14\n",
            "INGRESE UN VALOR ENTERO15\n",
            "INGRESE UN VALOR ENTERO15\n",
            "INGRESE UN VALOR ENTERO14\n",
            "INGRESE UN VALOR ENTERO17\n",
            "INGRESE UN VALOR ENTERO18\n",
            "INGRESE UN VALOR ENTERO19\n",
            "INGRESE UN VALOR ENTERO20\n",
            "INGRESE UN VALOR ENTERO21\n",
            "LA LISTA INGRESADA FUE: [12, 14, 15, 15, 14, 17, 18, 19, 20, 21]\n",
            "LA LISTA SIN LOS DUPLICADOS ES: [12, 14, 15, 17, 18, 19, 20, 21]\n"
          ]
        }
      ]
    },
    {
      "cell_type": "markdown",
      "source": [
        "5.- Escribe una función que calcule la media y la mediana de una lista de números enteros.\n",
        "\n",
        "La media es la suma de todos los elementos y dividido entre la cantidad de elementos\n",
        "\n",
        "La mediana es el valor que queda en la mitad de la lista cuando se ordena de forma ascendente. Si la lista tiene un número par de elementos, la mediana se calcula como el promedio de los dos valores centrales. Puedes utilizar el método sort() para ordenar la lista y luego calcular la mediana según el tamaño de la lista."
      ],
      "metadata": {
        "id": "csTYySlY5SwR"
      }
    },
    {
      "cell_type": "code",
      "source": [
        "def Media_mediana(lista):\n",
        "    acum=0\n",
        "    media=0\n",
        "    x=len(lista)\n",
        "    for i in range(0,x,1):\n",
        "        acum+=lista[i]\n",
        "\n",
        "    media=acum/x\n",
        "    lista.sort()\n",
        "    print(lista)\n",
        "    print(f\"LA MEDIA DE LA LISTA ES: {media}\")\n",
        "    lista.sort()\n",
        "    if (i+1)%2==0:\n",
        "        pos=(i)//2\n",
        "        mediana=(lista[pos]+lista[pos+1])/2\n",
        "        print(f\"LA MEDIANA ES :{mediana}\")\n",
        "    if (i+1)%2==1:\n",
        "        pos=(i)//2\n",
        "        print(f\"LA MEDIANA ES: {lista[pos]}\")\n",
        "\n"
      ],
      "metadata": {
        "id": "EtVuZ-us5TA5"
      },
      "execution_count": 32,
      "outputs": []
    },
    {
      "cell_type": "code",
      "source": [
        "lista=[]\n",
        "band = True\n",
        "while band:\n",
        "    try:\n",
        "        num=int(input(\"DAME UN NUMERO PARA AGREGARLO A LA LISTA O INGRESA 0 PARA SALIR\\n\"))\n",
        "    except:\n",
        "        print(\"INTRODUJO UN VALOR INVALIDO\")\n",
        "    else:\n",
        "        if num==0:\n",
        "            band=False\n",
        "            continue\n",
        "        lista.append(num)\n",
        "Media_mediana(lista)\n"
      ],
      "metadata": {
        "colab": {
          "base_uri": "https://localhost:8080/",
          "height": 0
        },
        "id": "oeIl34NesYgU",
        "outputId": "17d9a14b-fd00-4996-b2f5-43a565f910fc"
      },
      "execution_count": 33,
      "outputs": [
        {
          "output_type": "stream",
          "name": "stdout",
          "text": [
            "DAME UN NUMERO PARA AGREGARLO A LA LISTA O INGRESA 0 PARA SALIR\n",
            "10\n",
            "DAME UN NUMERO PARA AGREGARLO A LA LISTA O INGRESA 0 PARA SALIR\n",
            "12\n",
            "DAME UN NUMERO PARA AGREGARLO A LA LISTA O INGRESA 0 PARA SALIR\n",
            "14\n",
            "DAME UN NUMERO PARA AGREGARLO A LA LISTA O INGRESA 0 PARA SALIR\n",
            "16\n",
            "DAME UN NUMERO PARA AGREGARLO A LA LISTA O INGRESA 0 PARA SALIR\n",
            "18\n",
            "DAME UN NUMERO PARA AGREGARLO A LA LISTA O INGRESA 0 PARA SALIR\n",
            "0\n",
            "[10, 12, 14, 16, 18]\n",
            "LA MEDIA DE LA LISTA ES: 14.0\n",
            "LA MEDIANA ES: 14\n"
          ]
        }
      ]
    }
  ]
}