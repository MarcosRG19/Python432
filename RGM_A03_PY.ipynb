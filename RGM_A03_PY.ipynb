{
  "nbformat": 4,
  "nbformat_minor": 0,
  "metadata": {
    "colab": {
      "provenance": [],
      "authorship_tag": "ABX9TyPwye6Gmw/j2hy44opsqrLd",
      "include_colab_link": true
    },
    "kernelspec": {
      "name": "python3",
      "display_name": "Python 3"
    },
    "language_info": {
      "name": "python"
    }
  },
  "cells": [
    {
      "cell_type": "markdown",
      "metadata": {
        "id": "view-in-github",
        "colab_type": "text"
      },
      "source": [
        "<a href=\"https://colab.research.google.com/github/MarcosRG19/Python432/blob/main/RGM_A03_PY.ipynb\" target=\"_parent\"><img src=\"https://colab.research.google.com/assets/colab-badge.svg\" alt=\"Open In Colab\"/></a>"
      ]
    },
    {
      "cell_type": "markdown",
      "source": [
        "## ACTIVIDAD 3"
      ],
      "metadata": {
        "id": "eWL25Y6zhkeF"
      }
    },
    {
      "cell_type": "markdown",
      "source": [
        "1.- Algoritmo que lea 3 calificaciones calcule el promedio del alumno y desplegar:\n",
        "\n",
        "Si prom < 30 Repetir\n",
        "\n",
        "Si prom >=30 y prom <60 extraordinario\n",
        "\n",
        "Si prom >=60 y prom <70 suficiente\n",
        "\n",
        "Si prom >=70 y prom <80 Regular\n",
        "\n",
        "Si prom >=80 y prom <90 bien\n",
        "\n",
        "Si prom >=90 y prom <98 muy bien\n",
        "\n",
        "Si prom >=98 y prom <=100 excelente\n",
        "\n",
        "Si prom >100 Error en promedio\n",
        "\n",
        "Realizar el algoritmo optimizado"
      ],
      "metadata": {
        "id": "NJbrf9BDjKCo"
      }
    },
    {
      "cell_type": "code",
      "source": [
        "import random"
      ],
      "metadata": {
        "id": "tcS7Fdl6BazW"
      },
      "execution_count": null,
      "outputs": []
    },
    {
      "cell_type": "code",
      "source": [
        "calif1=int(input(\"Dame la calificacion 1 \"))\n",
        "calif2=int(input(\"Dame la calificacion 2 \"))\n",
        "calif3=int(input(\"Dame la calificacion 3 \"))\n",
        "prom=(calif1+calif2+calif3)/3\n",
        "if prom>=80:\n",
        "    if prom<90:\n",
        "        print(\"Bien\")\n",
        "    else:\n",
        "        if prom<98:\n",
        "            print(\"Muy Bien\")\n",
        "        else:\n",
        "            if prom<=100:\n",
        "                print(\"Excelente\")\n",
        "            else:\n",
        "                if prom>100:\n",
        "                    print(\"Error en promedio\")\n",
        "else:\n",
        "    if prom>=70:\n",
        "        print(\"Regular\")\n",
        "    else:\n",
        "        if prom>=60:\n",
        "            print(\"Suficiente\")\n",
        "        else:\n",
        "            if prom>=30:\n",
        "                print(\"Extraordinario\")\n",
        "            else:\n",
        "                if prom<30:\n",
        "                    print(\"Repetir\")\n",
        "\n",
        "\n"
      ],
      "metadata": {
        "colab": {
          "base_uri": "https://localhost:8080/"
        },
        "id": "RhIo2BIyjJr_",
        "outputId": "c264ecde-bfaf-422d-a97c-8e9a9e2c620d"
      },
      "execution_count": null,
      "outputs": [
        {
          "output_type": "stream",
          "name": "stdout",
          "text": [
            "Dame la calificacion 1 20\n",
            "Dame la calificacion 2 25\n",
            "Dame la calificacion 3 30\n",
            "Repetir\n"
          ]
        }
      ]
    },
    {
      "cell_type": "markdown",
      "source": [
        "2.- Algoritmo que sirva para calcular el salario semanal de un trabajador donde se obtiene como dato de\n",
        "entrada las horas semanales trabajadas, el salario por hora.\n",
        "\n",
        "El programa deberá calcular el salario normal, salario extra y salario total, considerando lo siguiente:\n",
        "\n",
        "Jornada Normal de 40 horas.\n",
        "\n",
        "El salario normal se considera las horas trabajadas menores o igual a la jornada normal\n",
        "\n",
        "Salario extra se considera las horas trabajadas mayores a la jornada normal y se pagan dobles las\n",
        "primeras 9 y triples a partir de la décima hora extra\n",
        "\n",
        "Nota: Desplegar todos los datos (Salario x hora, Horas Trabajadas, Salario normal, Salario extra y Salario\n",
        "Total)"
      ],
      "metadata": {
        "id": "wi4ZTjHYjKc3"
      }
    },
    {
      "cell_type": "code",
      "execution_count": null,
      "metadata": {
        "id": "Pwxa2SG9hSJz",
        "colab": {
          "base_uri": "https://localhost:8080/"
        },
        "outputId": "07c5a570-53d2-497f-8526-eb9f0dc23129"
      },
      "outputs": [
        {
          "output_type": "stream",
          "name": "stdout",
          "text": [
            "¿Cuantas horas trabajo esta semana? 39\n",
            "¿Cuanto es su sueldo por hora? 10\n",
            "Salario por hora:  10.0\n",
            "Horas Trabajadas:  39\n",
            "Salario Normal:  390.0\n",
            "Salario Extra:  0\n",
            "Salario Total:  390.0\n"
          ]
        }
      ],
      "source": [
        "horas=int(input(\"¿Cuantas horas trabajo esta semana? \"))\n",
        "sal_hora=float(input(\"¿Cuanto es su sueldo por hora? \"))\n",
        "if horas<=40:\n",
        "    sal_norm=horas*sal_hora\n",
        "    sal_tot=sal_norm\n",
        "    sal_ext=0\n",
        "elif horas<=49:\n",
        "    sal_norm=40*sal_hora\n",
        "    sal_dob=(horas-40)*2*sal_hora\n",
        "    sal_ext=sal_dob\n",
        "    sal_tot=sal_norm+sal_ext\n",
        "elif horas>49:\n",
        "    sal_norm=40*sal_hora\n",
        "    sal_dob=(9*2)*sal_hora\n",
        "    sal_trip=(horas-49)*3*sal_hora\n",
        "    sal_ext=sal_dob+sal_trip\n",
        "    sal_tot=sal_norm+sal_ext\n",
        "print(\"Salario por hora: \",sal_hora)\n",
        "print(\"Horas Trabajadas: \",horas)\n",
        "print(\"Salario Normal: \",sal_norm)\n",
        "print(\"Salario Extra: \",sal_ext)\n",
        "print(\"Salario Total: \",sal_tot)"
      ]
    },
    {
      "cell_type": "markdown",
      "source": [
        "3.- Algoritmo que sirva para desplegar el Total de una llamada telefónica donde se pide como datos de\n",
        "entrada los minutos y el tipo de llamada, se cobra de la siguiente manera:\n",
        "\n",
        "1.- Llamada Local 3.00 sin límite de tiempo\n",
        "\n",
        "2.- Llamada Nacional 7.00 por los 3 primeros minutos y 2.00 minuto adicional\n",
        "\n",
        "3.- Llamada Internacional 9.00 por los 2 primeros minutos y 4.00 minuto adicional\n",
        "\n",
        "Desplegar, Subtotal,Iva (16%) y Total."
      ],
      "metadata": {
        "id": "wmdpT0tHjPTm"
      }
    },
    {
      "cell_type": "code",
      "source": [
        "min=int(input(\"¿Cuantos minutos duró su llamada? \"))\n",
        "print(\"1. Local\")\n",
        "print(\"2. Nacional\")\n",
        "print(\"3. Internacional\")\n",
        "tipo=int(input(\"¿Que tipo de llamada fue? \"))\n",
        "if tipo==1:\n",
        "    sub_tot=3\n",
        "    iva=sub_tot*0.16\n",
        "    total=sub_tot+iva\n",
        "elif tipo==2:\n",
        "    if min<=3:\n",
        "        sub_tot=7\n",
        "        iva=sub_tot*0.16\n",
        "        total=sub_tot+iva\n",
        "    else:\n",
        "        sub_tot=((min-3)*2)+7\n",
        "        iva=sub_tot*0.16\n",
        "        total=sub_tot+iva\n",
        "elif tipo==3:\n",
        "    if min<=2:\n",
        "        sub_tot=9\n",
        "        iva=sub_tot*0.16\n",
        "        total=sub_tot+iva\n",
        "    else:\n",
        "        sub_tot=((min-2)*4)+9\n",
        "        iva=sub_tot*0.16\n",
        "        total=sub_tot+iva\n",
        "print(\"Subtotal: \",sub_tot)\n",
        "print(\"IVA: \",iva)\n",
        "print(\"Total: \",total)"
      ],
      "metadata": {
        "id": "STdKe90ujP1f",
        "colab": {
          "base_uri": "https://localhost:8080/"
        },
        "outputId": "f7a23ee9-1832-48a0-fbf3-95e9ace0813f"
      },
      "execution_count": null,
      "outputs": [
        {
          "output_type": "stream",
          "name": "stdout",
          "text": [
            "¿Cuantos minutos duró su llamada? 5\n",
            "1. Local\n",
            "2. Nacional\n",
            "3. Internacional\n",
            "¿Que tipo de llamada fue? 3\n",
            "Subtotal:  21\n",
            "IVA:  3.36\n",
            "Total:  24.36\n"
          ]
        }
      ]
    },
    {
      "cell_type": "markdown",
      "source": [
        "4.- Algoritmo que sirva para calcular el Total a pagar por consumo de agua, donde el dato de entrada son los M3 de agua consumidos, Tomar en cuenta que se cobra escalonada de la Siguiente manera:\n",
        "\n",
        "Rango1: 0 al 4 M3 $50 x facturación sin importar cuánto consumió en este rango\n",
        "\n",
        "Rango2: 5 a 15 M3 $8.00 x M3\n",
        "\n",
        "Rango3: 16 a 50 M3 $10.00 x M3\n",
        "\n",
        "Rango4: 51 M3 en adelante $11.00 x M3\n",
        "\n",
        "Nota: Desplegar SubTotal, Iva(16%), y Total a pagar."
      ],
      "metadata": {
        "id": "w1hAu2GFjQDX"
      }
    },
    {
      "cell_type": "code",
      "source": [
        "m3=int(input(\"¿Cuantos metros cubicos consumio?\"))\n",
        "if m3<5:\n",
        "    sub_tot=50\n",
        "    iva=sub_tot*0.16\n",
        "    total=sub_tot+iva\n",
        "elif m3<=15:\n",
        "    sub_tot=8*m3\n",
        "    iva=sub_tot*0.16\n",
        "    total=sub_tot+iva\n",
        "elif m3<=50:\n",
        "    sub_tot=10*m3\n",
        "    iva=sub_tot*0.16\n",
        "    total=sub_tot+iva\n",
        "else:\n",
        "    sub_tot=11*m3\n",
        "    iva=sub_tot*0.16\n",
        "    total=sub_tot+iva\n",
        "print(\"SUBTOTAL: \",sub_tot)\n",
        "print(\"IVA: \",iva)\n",
        "print(\"TOTAL: \",total)"
      ],
      "metadata": {
        "id": "gaK7-SIjjQUA",
        "colab": {
          "base_uri": "https://localhost:8080/"
        },
        "outputId": "22e65138-077c-4109-f26e-be61109f047c"
      },
      "execution_count": null,
      "outputs": [
        {
          "output_type": "stream",
          "name": "stdout",
          "text": [
            "¿Cuantos metros cubicos consumio?15\n",
            "SUBTOTAL:  120\n",
            "IVA:  19.2\n",
            "TOTAL:  139.2\n"
          ]
        }
      ]
    },
    {
      "cell_type": "markdown",
      "source": [
        "5- En la materia de Metodología de la programación se aplican 5 exámenes, calcular el promedio final de\n",
        "la materia donde la calificación menor de los exámenes se anula y el promedio se calcula en base a 4\n",
        "exámenes.\n",
        "\n",
        "Desplegar el promedio final."
      ],
      "metadata": {
        "id": "MRbi9YA5jQiu"
      }
    },
    {
      "cell_type": "code",
      "source": [
        "calif1=int(input(\"Dame la calificacion del examen 1: \"))\n",
        "calif2=int(input(\"Dame la calificacion del examen 2: \"))\n",
        "calif3=int(input(\"Dame la calificacion del examen 3: \"))\n",
        "calif4=int(input(\"Dame la calificacion del examen 4: \"))\n",
        "calif5=int(input(\"Dame la calificacion del examen 5: \"))\n",
        "menor=calif1\n",
        "if calif2<menor:\n",
        "    menor=calif2\n",
        "elif calif3<menor:\n",
        "    menor=calif3\n",
        "elif calif4<menor:\n",
        "    menor=calif4\n",
        "elif calif5<menor:\n",
        "    menor=calif5\n",
        "prom=(calif1+calif2+calif3+calif4+calif5-menor)/4\n",
        "print(\"El promedio es: \",prom)"
      ],
      "metadata": {
        "id": "B1Fffj2lkqgD",
        "colab": {
          "base_uri": "https://localhost:8080/"
        },
        "outputId": "9883299d-3739-4c81-9e14-5f72027a49ee"
      },
      "execution_count": null,
      "outputs": [
        {
          "output_type": "stream",
          "name": "stdout",
          "text": [
            "Dame la calificacion del examen 1: 80\n",
            "Dame la calificacion del examen 2: 90\n",
            "Dame la calificacion del examen 3: 70\n",
            "Dame la calificacion del examen 4: 60\n",
            "Dame la calificacion del examen 5: 50\n",
            "El promedio es:  70.0\n"
          ]
        }
      ]
    },
    {
      "cell_type": "markdown",
      "source": [
        "6.- Algoritmo que sirva para el juego del CHINCHAMPU (Piedra, Papel, Tijera) para 1 jugador y la\n",
        "computadora, (usar condición anidada)"
      ],
      "metadata": {
        "id": "PZo5ktoxkq3C"
      }
    },
    {
      "cell_type": "code",
      "source": [
        "print(\"Bienvenido al juego CHINCHAMPU\")\n",
        "print(\"1.-Piedra\")\n",
        "print(\"2.-Papel\")\n",
        "print(\"3.-Tijera\")\n",
        "user_opc=int(input(\"Elige tu jugada \"))\n",
        "pc_opc=random.randint(0,30)\n",
        "if pc_opc<=10:\n",
        "    pc_opc=1\n",
        "elif pc_opc<=20:\n",
        "    pc_opc=2\n",
        "else:\n",
        "    pc_opc=3\n",
        "\n",
        "if user_opc==1:\n",
        "    if pc_opc==1:\n",
        "        print(f\"Usted eligio PIEDRA\")\n",
        "        print(f\"La pc eligio PIEDRA\")\n",
        "        print(\"El resultado es EMPATE\")\n",
        "    else:\n",
        "        if pc_opc==2:\n",
        "            print(f\"Usted eligio PIEDRA\")\n",
        "            print(f\"La pc eligio PAPEL\")\n",
        "            print(\"El resultado es PERDISTE\")\n",
        "        else:\n",
        "            print(f\"Usted eligio PIEDRA\")\n",
        "            print(f\"La pc eligio TIJERAS\")\n",
        "            print(\"El resultado es GANASTE\")\n",
        "else:\n",
        "    if user_opc==2:\n",
        "        if pc_opc==1:\n",
        "            print(f\"Usted eligio PAPEL\")\n",
        "            print(f\"La pc eligio PIEDRA\")\n",
        "            print(\"El resultado es GANASTE\")\n",
        "        else:\n",
        "            if pc_opc==2:\n",
        "                print(f\"Usted eligio PAPEL\")\n",
        "                print(f\"La pc eligio PAPEL\")\n",
        "                print(\"El resultado es EMPATE\")\n",
        "            else:\n",
        "                print(f\"Usted eligio PAPEL\")\n",
        "                print(f\"La pc eligio TIJERAS\")\n",
        "                print(\"El resultado es PERDISTE\")\n",
        "    else:\n",
        "        if pc_opc==1:\n",
        "            print(f\"Usted eligio TIJERAS\")\n",
        "            print(f\"La pc eligio PIEDRA\")\n",
        "            print(\"El resultado es PERDISTE\")\n",
        "        else:\n",
        "            if pc_opc==2:\n",
        "                print(f\"Usted eligio TIJERAS\")\n",
        "                print(f\"La pc eligio PAPEL\")\n",
        "                print(\"El resultado es GANASTE\")\n",
        "            else:\n",
        "                print(f\"Usted eligio TIJERAS\")\n",
        "                print(f\"La pc eligio TIJERAS\")\n",
        "                print(\"El resultado es EMPATE\")\n",
        "\n"
      ],
      "metadata": {
        "id": "t417x_t2krQ6",
        "colab": {
          "base_uri": "https://localhost:8080/"
        },
        "outputId": "3ccb6394-798a-4885-f8bd-58a8a136a255"
      },
      "execution_count": null,
      "outputs": [
        {
          "output_type": "stream",
          "name": "stdout",
          "text": [
            "Bienvenido al juego CHINCHAMPU\n",
            "1.-Piedra\n",
            "2.-Papel\n",
            "3.-Tijera\n",
            "Elige tu jugada 1\n",
            "Usted eligio PIEDRA\n",
            "La pc eligio PIEDRA\n",
            "El resultado es EMPATE\n"
          ]
        }
      ]
    },
    {
      "cell_type": "markdown",
      "source": [
        "7.- Algoritmo que sirva para el juego del CHINCHAMPU (Piedra, Papel, Tijera) para 1 jugador y la\n",
        "computadora, (usar selección múltiple)"
      ],
      "metadata": {
        "id": "B5sXVyvHmLut"
      }
    },
    {
      "cell_type": "code",
      "source": [
        "print(\"Bienvenido al juego CHINCHAMPU\")\n",
        "print(\"1.-Piedra\")\n",
        "print(\"2.-Papel\")\n",
        "print(\"3.-Tijera\")\n",
        "user_opc=int(input(\"Elige tu jugada \"))\n",
        "pc_opc=random.randint(0,30)\n",
        "if pc_opc<=10:\n",
        "    pc_opc=1\n",
        "elif pc_opc<=20:\n",
        "    pc_opc=2\n",
        "else:\n",
        "    pc_opc=3\n",
        "\n",
        "if user_opc==1:\n",
        "    if pc_opc==1:\n",
        "        print(f\"Usted eligio PIEDRA\")\n",
        "        print(f\"La pc eligio PIEDRA\")\n",
        "        print(\"El resultado es EMPATE\")\n",
        "    elif pc_opc==2:\n",
        "        print(f\"Usted eligio PIEDRA\")\n",
        "        print(f\"La pc eligio PAPEL\")\n",
        "        print(\"El resultado es PERDISTE\")\n",
        "    elif pc_opc==3:\n",
        "        print(f\"Usted eligio PIEDRA\")\n",
        "        print(f\"La pc eligio TIJERAS\")\n",
        "        print(\"El resultado es GANASTE\")\n",
        "elif user_opc==2:\n",
        "    if pc_opc==1:\n",
        "        print(f\"Usted eligio PAPEL\")\n",
        "        print(f\"La pc eligio PIEDRA\")\n",
        "        print(\"El resultado es GANASTE\")\n",
        "    elif pc_opc==2:\n",
        "        print(f\"Usted eligio PAPEL\")\n",
        "        print(f\"La pc eligio PAPEL\")\n",
        "        print(\"El resultado es EMPATE\")\n",
        "    elif pc_opc==3:\n",
        "        print(f\"Usted eligio PAPEL\")\n",
        "        print(f\"La pc eligio TIJERAS\")\n",
        "        print(\"El resultado es PERDISTE\")\n",
        "elif user_opc==3:\n",
        "    if pc_opc==1:\n",
        "        print(f\"Usted eligio TIJERAS\")\n",
        "        print(f\"La pc eligio PIEDRA\")\n",
        "        print(\"El resultado es PERDISTE\")\n",
        "    elif pc_opc==2:\n",
        "        print(f\"Usted eligio TIJERAS\")\n",
        "        print(f\"La pc eligio PAPEL\")\n",
        "        print(\"El resultado es GANASTE\")\n",
        "    elif pc_opc==3:\n",
        "        print(f\"Usted eligio TIJERAS\")\n",
        "        print(f\"La pc eligio TIJERAS\")\n",
        "        print(\"El resultado es EMPATE\")"
      ],
      "metadata": {
        "id": "WOBSRYhumQFN",
        "colab": {
          "base_uri": "https://localhost:8080/"
        },
        "outputId": "cb857975-d4cb-4311-85a2-dded94835293"
      },
      "execution_count": null,
      "outputs": [
        {
          "output_type": "stream",
          "name": "stdout",
          "text": [
            "Bienvenido al juego CHINCHAMPU\n",
            "1.-Piedra\n",
            "2.-Papel\n",
            "3.-Tijera\n",
            "Elige tu jugada 1\n",
            "Usted eligio PIEDRA\n",
            "La pc eligio PAPEL\n",
            "El resultado es PERDISTE\n"
          ]
        }
      ]
    },
    {
      "cell_type": "markdown",
      "source": [
        "8.- Una tienda de electrónica ofrece descuentos a sus clientes, dependiendo del tipo de producto que\n",
        "compren. Si el cliente compra una computadora, tiene un descuento del 5% en el precio de la computadora\n",
        "y un 10% de descuento en una impresora si la compra junto con la computadora. Si el cliente compra una\n",
        "televisión, tiene un descuento del 7% en el precio de la televisión y un 15% de descuento en una barra de\n",
        "sonido si la compra junto con la televisión. Si el cliente compra una consola de videojuegos, tiene un\n",
        "descuento del 10% en el precio de la consola y un 20% de descuento en un juego si lo compra junto con la\n",
        "consola. Escribe un programa que calcule el precio a pagar por un cliente, tomando en cuenta los\n",
        "descuentos correspondientes."
      ],
      "metadata": {
        "id": "VO5Xze04mPL0"
      }
    },
    {
      "cell_type": "code",
      "source": [
        "print(\"Bienvenido a Electronica Galindo\")\n",
        "print(\"Articulos a la venta\")\n",
        "print(\"1.-Computadora\")\n",
        "print(\"2.-impresora\")\n",
        "print(\"3.-TV\")\n",
        "print(\"4.-Barra de sonido\")\n",
        "print(\"5.-Consola de videojuegos\")\n",
        "print(\"6.-Videojuegos\")\n",
        "art1=int(input(\"Que articulo compro? \"))\n",
        "cost=int(input(\"¿Cuanto le costo? \"))\n",
        "if art1==1:\n",
        "    print(\"Tambien compro una impresora?\")\n",
        "    opc=int(input(\"1.-SI 2.-NO\"))\n",
        "    if opc==1:\n",
        "        cost2=int(input(\"¿Cuanto le costo? \"))\n",
        "        desc1=cost*0.05\n",
        "        desc2=cost2*0.1\n",
        "        subtotal=(cost-desc1)+(cost2-desc2)\n",
        "\n"
      ],
      "metadata": {
        "id": "vEanFiWymTRU",
        "colab": {
          "base_uri": "https://localhost:8080/",
          "height": 0
        },
        "outputId": "0d557439-d10c-41a0-b0a8-e5ebe22552d0"
      },
      "execution_count": 2,
      "outputs": [
        {
          "name": "stdout",
          "output_type": "stream",
          "text": [
            "Bienvenido a Electronica Galindo\n",
            "Articulos a la venta\n",
            "1.-Computadora\n",
            "2.-impresora\n",
            "3.-TV\n",
            "4.-Barra de sonido\n",
            "5.-Consola de videojuegos\n",
            "6.-Videojuegos\n",
            "Que articulo compro? 1\n",
            "¿Cuanto le costo? 500\n",
            "Tambien compro una impresora?\n",
            "1.-SI 2.-NO1\n",
            "¿Cuanto le costo? 200\n"
          ]
        }
      ]
    }
  ]
}